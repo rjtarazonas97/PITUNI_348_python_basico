{
  "nbformat": 4,
  "nbformat_minor": 0,
  "metadata": {
    "colab": {
      "provenance": [],
      "authorship_tag": "ABX9TyMtfxCQmSJwLDIqwGTPNHqo",
      "include_colab_link": true
    },
    "kernelspec": {
      "name": "python3",
      "display_name": "Python 3"
    },
    "language_info": {
      "name": "python"
    }
  },
  "cells": [
    {
      "cell_type": "markdown",
      "metadata": {
        "id": "view-in-github",
        "colab_type": "text"
      },
      "source": [
        "<a href=\"https://colab.research.google.com/github/rjtarazonas97/PITUNI_348_python_basico/blob/main/Script06.ipynb\" target=\"_parent\"><img src=\"https://colab.research.google.com/assets/colab-badge.svg\" alt=\"Open In Colab\"/></a>"
      ]
    },
    {
      "cell_type": "markdown",
      "source": [
        "# Respaso\n",
        "\n",
        "\n",
        "*   Definicion de variables\n",
        "        1.int\n",
        "        2.float\n",
        "        3.str\n",
        "        4.bool\n",
        "*   Operaciones que se puede realizar con un determinado tipo de varaible\n",
        "*   El uso de modulos en python: math y random\n",
        "*   Aprendimos que para aprender a utilizar cualquier modulo lo unico que necesitamos es el nombre del modulo: impor, help y dir\n",
        "*   Aprendimos que python ( es un lenguaje de programacion de tipado dinamico ) la funcionalidad de type: Devuelve el tipo de dato de una determinada variable.\n",
        "*   Funciones que nos permite interactuar\n",
        "        1. Funcion de entrada: input\n",
        "        2. Funcion de salida: print\n",
        "\n"
      ],
      "metadata": {
        "id": "Dl2jkX2nfikF"
      }
    },
    {
      "cell_type": "markdown",
      "source": [
        "# Estructura de control: IF\n",
        "\n",
        "**Proposito**: Ejecutar bloques de codigo en funcion( bajo condicion) de u na operacion booleana\n",
        "---\n",
        "\n"
      ],
      "metadata": {
        "id": "3eGatXCGg8mL"
      }
    },
    {
      "cell_type": "code",
      "source": [
        "#sintaxis\n",
        "# if condicion:\n",
        "#   ejecutar_tarea1\n",
        "#   ejecutar_tarea2\n",
        "#  elif condicion:\n",
        "#   ejecutar_tarea3\n",
        "#   ejecutar_tarea4\n",
        "#   ejecutar_tarea5\n",
        "#  elif condicion:\n",
        "#   ejecutar_tarea6\n",
        "#   ejecutar_tarea7\n",
        "#   ejecutar_tarea8\n",
        "# elif condicion:\n",
        "#   ejecutar_tarea9\n",
        "#   ejecutar_tarea10\n",
        "#   ejecutar_tarea11\n",
        "# else:\n",
        "#   ejecutar_tarea_si_todas_las_condiciones_son_false"
      ],
      "metadata": {
        "id": "6AHzlMb1fnVg"
      },
      "execution_count": null,
      "outputs": []
    },
    {
      "cell_type": "code",
      "source": [
        "#Ejemplito1\n",
        "#Consideremos pedir al usuario su edad y (almacenada como un numero entero)\n",
        "#En funcion del calor ingresado vamos a tomar las siguientes acciones\n",
        " # edad >= 0 y edad < 18 : \"Es momentop de preparar el terreno para la siembra\"\n",
        " # edad >= 18 y edad < 29 : \"Es momento de sembrar\"\n",
        " # edad >= 29 y edad < 45: \"Es momento de cuidar el terreno para futuras siembras\"\n",
        " # edad >= 45 : \"Es momento de disfrutar de la cosecha\""
      ],
      "metadata": {
        "id": "IADQ9d7Gg_pH"
      },
      "execution_count": null,
      "outputs": []
    },
    {
      "cell_type": "code",
      "source": [
        "print(\"\"\"\n",
        " Bienvenido al primer script que utiliza una estructura de desicion\n",
        "\"\"\")\n",
        "# PEdir al usuario su edad(int)\n",
        "edad_user = int(input(\"Por favor ingrese su edad: \"))\n",
        "\n",
        "# Primera accion es traducir la necesidad al codigo\n",
        "if (edad_user >=0) and (edad_user < 18):\n",
        "  print(\"Es momento de preparar el terreno para la siembra\")\n",
        "elif (edad_user >= 18) and (edad_user < 29):\n",
        "  print(\"Es momento de sembrar\")\n",
        "elif (edad_user >= 29) and (edad_user < 45):\n",
        "  print(\"Es momento de cuidar el terreno para futuras siembras\")\n",
        "elif (edad_user >= 45):\n",
        "  print(\"Es momento de disfrutar de la cosecha\")\n",
        "else:\n",
        "  print(\"Por favor ingrese una edad valida\")"
      ],
      "metadata": {
        "colab": {
          "base_uri": "https://localhost:8080/"
        },
        "id": "ADVpOKyK8viu",
        "outputId": "0cd9cb2b-1fa5-4d7d-b919-35afbb06a0e9"
      },
      "execution_count": null,
      "outputs": [
        {
          "output_type": "stream",
          "name": "stdout",
          "text": [
            "\n",
            " Bienvenido al primer script que utiliza una estructura de desicion\n",
            "\n",
            "Por favor ingrese su edad: 28\n",
            "Es momento de sembrar\n"
          ]
        }
      ]
    },
    {
      "cell_type": "code",
      "source": [
        "#Actualizacion1\n",
        " # Considerar una edad adecuada se encuentra en el intervalo [0,110]"
      ],
      "metadata": {
        "id": "RnrWlq0g-2o9"
      },
      "execution_count": null,
      "outputs": []
    },
    {
      "cell_type": "code",
      "source": [
        "# Implementemos el codigo que considera la actualizacion1\n",
        "\n",
        "print(\"\"\"\n",
        " Bienvenido al primer script que utiliza una estructura de desicion\n",
        "\"\"\")\n",
        "# PEdir al usuario su edad(int)\n",
        "edad_user = int(input(\"Por favor ingrese su edad: \"))\n",
        "\n",
        "# Primera accion es traducir la necesidad al codigo\n",
        "if (edad_user >= 0) and (edad_user <= 110):\n",
        "  if (edad_user >=0) and (edad_user < 18):\n",
        "    print(\"Es momento de preparar el terreno para la siembra\")\n",
        "  elif (edad_user >= 18) and (edad_user < 29):\n",
        "    print(\"Es momento de sembrar\")\n",
        "  elif (edad_user >= 29) and (edad_user < 45):\n",
        "    print(\"Es momento de cuidar el terreno para futuras siembras\")\n",
        "  elif (edad_user >= 45):\n",
        "    print(\"Es momento de disfrutar de la cosecha\")\n",
        "  else:\n",
        "    print(\"Por favor ingrese una edad valida\")\n",
        "else:\n",
        "  print(\"Valor incorrecto\")"
      ],
      "metadata": {
        "colab": {
          "base_uri": "https://localhost:8080/"
        },
        "id": "PVfYGFQCAUSN",
        "outputId": "ce229021-09de-4d5b-a8d0-27aab24eddc3"
      },
      "execution_count": null,
      "outputs": [
        {
          "output_type": "stream",
          "name": "stdout",
          "text": [
            "\n",
            " Bienvenido al primer script que utiliza una estructura de desicion\n",
            "\n",
            "Por favor ingrese su edad: 29\n",
            "Es momento de cuidar el terreno para futuras siembras\n"
          ]
        }
      ]
    },
    {
      "cell_type": "code",
      "source": [
        "#actualizacion2\n",
        "#Hay que considerar analizar que el usuario ingrese un valor punto flotante"
      ],
      "metadata": {
        "id": "mYhT5y2FBXIh"
      },
      "execution_count": null,
      "outputs": []
    },
    {
      "cell_type": "code",
      "source": [
        "# La primera implementacion considera almacenar la variable como un dato float, aplicar la funcion round\n",
        "# y proceder con la logica ya implementada\n",
        "\n",
        "print(\"\"\"\n",
        " Bienvenido al primer script que utiliza una estructura de desicion\n",
        "\n",
        " ------------------------------------------------------------------\n",
        "\n",
        "\"\"\")\n",
        "# PEdir al usuario su edad(int)\n",
        "edad_user = float(input(\"Por favor ingrese su edad: \"))\n",
        "edad_user = round(edad_user)\n",
        "\n",
        "# Primera accion es traducir la necesidad al codigo\n",
        "if (edad_user >= 0) and (edad_user <= 110):\n",
        "  if (edad_user >=0) and (edad_user < 18):\n",
        "    print(\"Es momento de preparar el terreno para la siembra\")\n",
        "  elif (edad_user >= 18) and (edad_user < 29):\n",
        "    print(\"Es momento de sembrar\")\n",
        "  elif (edad_user >= 29) and (edad_user < 45):\n",
        "    print(\"Es momento de cuidar el terreno para futuras siembras\")\n",
        "  elif (edad_user >= 45):\n",
        "    print(\"Es momento de disfrutar de la cosecha\")\n",
        "  else:\n",
        "    print(\"Por favor ingrese una edad valida\")\n",
        "else:\n",
        "  print(\"Valor incorrecto\")"
      ],
      "metadata": {
        "colab": {
          "base_uri": "https://localhost:8080/"
        },
        "id": "xX9stBflCIdx",
        "outputId": "d45b6370-c219-48bd-f19a-09707a76ed08"
      },
      "execution_count": null,
      "outputs": [
        {
          "output_type": "stream",
          "name": "stdout",
          "text": [
            "\n",
            " Bienvenido al primer script que utiliza una estructura de desicion\n",
            "\n",
            " ------------------------------------------------------------------\n",
            " \n",
            "\n",
            "Por favor ingrese su edad: 66.6\n",
            "Es momento de disfrutar de la cosecha\n"
          ]
        }
      ]
    },
    {
      "cell_type": "code",
      "source": [
        "#Actualizacion\n",
        " # Antes de todo lo ya implementado debmos considerar que el usuario solo ingrese\n",
        " # valores numericos (int/float)\n",
        "\n",
        "# \"treinta y cinco\".isdigit()\n",
        "# \"12.9\".isdigit()\n",
        "# \"1258\".isdigit()"
      ],
      "metadata": {
        "id": "yFnrobebDqPq"
      },
      "execution_count": null,
      "outputs": []
    },
    {
      "cell_type": "code",
      "source": [
        "edad_user = input(\"Por favor ingrese su edad: \")\n",
        "\n",
        "#Analizar el caso en que edad_user este compuesto por letras y numeros con punto decimal\n",
        "if not edad_user.isdigit():\n",
        "  #letras\n",
        "  #punto flotante\n",
        "  #numeros negativos\n",
        "  print(\"Trabajar sonbre la informacion proveida por el usuario\")\n",
        "\n",
        "  #Validar que el input del usuario sean letras\n",
        "  if edad_user.isalpha():\n",
        "    print(\"Solo debes ingresar un valor numerico\")\n",
        "  if edad_user.count(\".\") > 0:\n",
        "    print(\"Solo debes ingresar numeros enteros\")\n",
        "  if edad_user.count(\"-\") > 0:\n",
        "    print(\"Solo debes ingresar numeros positivos\")\n",
        "  if len(edad_user) == 0:\n",
        "    print(\"No debes dejar el campo vacio\")\n",
        "  if edad_user.count(\",\") > 0:\n",
        "    print(\"Solo debes ingresar un valor numerico\")\n",
        "\n",
        "else:\n",
        "  edad_user = float(edad_user)\n",
        "  edad_user = int(edad_user)\n",
        "\n",
        "\n",
        "  if (edad_user >= 0) and (edad_user <= 110):\n",
        "    if (edad_user >=0) and (edad_user < 18):\n",
        "      print(\"Es momento de preparar el terreno para la siembra\")\n",
        "    elif (edad_user >= 18) and (edad_user < 29):\n",
        "      print(\"Es momento de sembrar\")\n",
        "    elif (edad_user >= 29) and (edad_user < 45):\n",
        "      print(\"Es momento de cuidar el terreno para futuras siembras\")\n",
        "    elif (edad_user >= 45):\n",
        "      print(\"Es momento de disfrutar de la cosecha\")\n",
        "    else:\n",
        "      print(\"Por favor ingrese una edad valida\")\n",
        "  else:\n",
        "    print(\"Valor incorrecto\")"
      ],
      "metadata": {
        "colab": {
          "base_uri": "https://localhost:8080/"
        },
        "id": "LUvecdILEksV",
        "outputId": "a79b5faa-28b5-4124-8fba-623047053d0b"
      },
      "execution_count": null,
      "outputs": [
        {
          "output_type": "stream",
          "name": "stdout",
          "text": [
            "Por favor ingrese su edad: 12,9\n",
            "Trabajar sonbre la informacion proveida por el usuario\n",
            "Solo debes ingresar un valor numerico\n"
          ]
        }
      ]
    },
    {
      "cell_type": "code",
      "source": [
        "\"12.5\".isnumeric()"
      ],
      "metadata": {
        "colab": {
          "base_uri": "https://localhost:8080/"
        },
        "id": "m9DqgK94QPsf",
        "outputId": "5396e89d-201b-4915-8fc6-e0d0ff5250db"
      },
      "execution_count": null,
      "outputs": [
        {
          "output_type": "execute_result",
          "data": {
            "text/plain": [
              "False"
            ]
          },
          "metadata": {},
          "execution_count": 56
        }
      ]
    },
    {
      "cell_type": "code",
      "source": [
        "# Del analisis anterior : Basado en una pri,era implementacion literal del requerimiento\n",
        "# procedemos a analizar una serie de casos de suso, los cuales muestran algunos escenarios/ejemplos\n",
        "# que requieren un tratamiento especial. Hemos logrado implementar una estrategia bastante general\n",
        "# que puede ir evolucionando con cada nueva actualizacion"
      ],
      "metadata": {
        "id": "9eKx1iKuVxg4"
      },
      "execution_count": null,
      "outputs": []
    },
    {
      "cell_type": "code",
      "source": [
        "# Primero: la importancia de la sintaxis(La suma importancia de la identacion del codigo)\n",
        "# segundo: conocimiento baico de los tipos de variables( sus operaciones y metodos) que odemos manipular\n",
        "# tercero: conciconales anidadas (desiciones jerarquicas complejas)"
      ],
      "metadata": {
        "id": "wRu82x5bWU9C"
      },
      "execution_count": null,
      "outputs": []
    },
    {
      "cell_type": "markdown",
      "source": [
        "# Condiconales en una linea (Operador Ternario)"
      ],
      "metadata": {
        "id": "xVX1wMbeXVhX"
      }
    },
    {
      "cell_type": "code",
      "source": [
        "# Definamos una etiqueta : Puede almacenar valores \"Spam\" y \"no spam\"\n",
        "# El objetivo\n",
        "\n",
        "#Utilicemos el modulo random(funcion random) para crear un numero aleatorio en [0,1]\n",
        "import random as rnd\n",
        "probabilida = rnd.random()\n",
        "\n",
        "#Construyamos la etuiqueta\n",
        "etiqueta = \"spam\" if probabilida>0.5 else \"no spam\"\n",
        "etiqueta"
      ],
      "metadata": {
        "colab": {
          "base_uri": "https://localhost:8080/",
          "height": 35
        },
        "id": "yE4InMOaXUpW",
        "outputId": "81de0cb2-1215-485e-e019-57ddfa480901"
      },
      "execution_count": null,
      "outputs": [
        {
          "output_type": "execute_result",
          "data": {
            "text/plain": [
              "'no spam'"
            ],
            "application/vnd.google.colaboratory.intrinsic+json": {
              "type": "string"
            }
          },
          "metadata": {},
          "execution_count": 72
        }
      ]
    },
    {
      "cell_type": "code",
      "source": [
        "#puedo etiquetar un numero utilizando una condicional eln linea\n",
        "numero = rnd.uniform(-1,1)\n",
        "signo = \"positivo\" if numero >= 0 else \"negativo\"\n",
        "signo"
      ],
      "metadata": {
        "colab": {
          "base_uri": "https://localhost:8080/",
          "height": 35
        },
        "id": "fImFPYAgYM3r",
        "outputId": "798be9c3-52f8-4784-c9dc-625e4c97a147"
      },
      "execution_count": null,
      "outputs": [
        {
          "output_type": "execute_result",
          "data": {
            "text/plain": [
              "'negativo'"
            ],
            "application/vnd.google.colaboratory.intrinsic+json": {
              "type": "string"
            }
          },
          "metadata": {},
          "execution_count": 73
        }
      ]
    },
    {
      "cell_type": "markdown",
      "source": [
        "# Ejemplitos"
      ],
      "metadata": {
        "id": "PqlHtZToYn1L"
      }
    },
    {
      "cell_type": "code",
      "source": [
        "# Ejemplito2\n",
        "# Verifiquemos que los datos de registro de un usuario cumpla con lo determinadas condicioines\n",
        "  # Nombre no debe ser vacio y sin numero\n",
        "  # El correo electronico debe de conetener el caracter @ y un dominio\n",
        "  # La eded debe ser un valor entero en intervalo de [18,100]"
      ],
      "metadata": {
        "id": "RNj78b6dYp8F"
      },
      "execution_count": null,
      "outputs": []
    },
    {
      "cell_type": "code",
      "source": [
        "# Entrada de usurio\n",
        "\n",
        "print(\"Sistema de registro : \")\n",
        "nombre = input(\"Por favor ingrese su nombre: \")\n",
        "email = input(\"Por favor ingrese su correo electronico: \")\n",
        "edad = input(\"Por favor ingrese su edad: \")\n",
        "\n",
        "# Implementar las condiciones sobre la varaible nombre\n",
        "if(len(nombre) > 0) and (nombre.isalpha()):\n",
        "  print(\"Admitimos como valido lo ingresado en la variable nombre : \", nombre)\n",
        "else:\n",
        "  print(\"Nombre no admitido\")\n",
        "# Implementar las condiciones sobre la variable email\n",
        "if(email.count(\"@\") == 1) and (email.split(\"@\")[-1].count(\".\") == 1):\n",
        "  print(\"Admitimos como valido lo ingresado en la variable email : \", email)\n",
        "else:\n",
        "  print(\"Email no admitido\")"
      ],
      "metadata": {
        "colab": {
          "base_uri": "https://localhost:8080/"
        },
        "id": "RLQ_ODuwhvE9",
        "outputId": "fdc70ef6-54b4-4e29-b5df-4f7230794b07"
      },
      "execution_count": null,
      "outputs": [
        {
          "output_type": "stream",
          "name": "stdout",
          "text": [
            "Sistema de registro : \n",
            "Por favor ingrese su nombre: jorge666\n",
            "Por favor ingrese su correo electronico: jesus.tarazona@gmail.com\n",
            "Por favor ingrese su edad: 28\n",
            "Nombre no admitido\n",
            "Admitimos como valido lo ingresado en la variable email :  jesus.tarazona@gmail.com\n"
          ]
        }
      ]
    },
    {
      "cell_type": "markdown",
      "source": [
        "#Estructura de control : for\n"
      ],
      "metadata": {
        "id": "0RJMvP_4nHCG"
      }
    },
    {
      "cell_type": "code",
      "source": [
        "# La unica  estructura (variable con naturaleza vectorial : str)\n",
        "cad1 = \"Tercera clase\"\n",
        "cad1"
      ],
      "metadata": {
        "colab": {
          "base_uri": "https://localhost:8080/",
          "height": 35
        },
        "id": "k51h-qc4nKhR",
        "outputId": "0b8c49db-b825-4d0a-8171-ead74e9a0c45"
      },
      "execution_count": null,
      "outputs": [
        {
          "output_type": "execute_result",
          "data": {
            "text/plain": [
              "'Tercera clase'"
            ],
            "application/vnd.google.colaboratory.intrinsic+json": {
              "type": "string"
            }
          },
          "metadata": {},
          "execution_count": 82
        }
      ]
    },
    {
      "cell_type": "code",
      "source": [
        "# El metodo capitalize\n",
        "cad1.capitalize()"
      ],
      "metadata": {
        "colab": {
          "base_uri": "https://localhost:8080/",
          "height": 35
        },
        "id": "WLGTSeJ4pevB",
        "outputId": "faaf7255-a48c-41b1-f4eb-fe5b438bdd2f"
      },
      "execution_count": null,
      "outputs": [
        {
          "output_type": "execute_result",
          "data": {
            "text/plain": [
              "'Tercera clase'"
            ],
            "application/vnd.google.colaboratory.intrinsic+json": {
              "type": "string"
            }
          },
          "metadata": {},
          "execution_count": 85
        }
      ]
    },
    {
      "cell_type": "code",
      "source": [
        "#for\n",
        "for caracter in cad1:\n",
        "  print(caracter.capitalize())"
      ],
      "metadata": {
        "colab": {
          "base_uri": "https://localhost:8080/"
        },
        "id": "6sCoN31Apkm4",
        "outputId": "477a0f9c-64bd-41f7-aa05-7de54597cab8"
      },
      "execution_count": null,
      "outputs": [
        {
          "output_type": "stream",
          "name": "stdout",
          "text": [
            "T\n",
            "E\n",
            "R\n",
            "C\n",
            "E\n",
            "R\n",
            "A\n",
            " \n",
            "C\n",
            "L\n",
            "A\n",
            "S\n",
            "E\n"
          ]
        }
      ]
    },
    {
      "cell_type": "code",
      "source": [
        "# Ya podemos acceder a cada componente de la cadena de caracter cad1 mediante\n",
        "# una estructura de repeticion for. Podemos acumular cada caracte(luego de haber aplicado capitalize)\n",
        "# en un nuevo objeto de tipo str\n",
        "\n",
        "cad1_mayus = \"\"\n",
        "for caracter in cad1:\n",
        "  cad1_mayus = cad1_mayus + caracter.capitalize()\n",
        "  print(cad1_mayus)\n",
        "cad1_mayus"
      ],
      "metadata": {
        "colab": {
          "base_uri": "https://localhost:8080/",
          "height": 261
        },
        "id": "ZuTzWX2fp_cC",
        "outputId": "2b909bcf-15d9-425a-d03c-33d6be887ff4"
      },
      "execution_count": null,
      "outputs": [
        {
          "output_type": "stream",
          "name": "stdout",
          "text": [
            "T\n",
            "TE\n",
            "TER\n",
            "TERC\n",
            "TERCE\n",
            "TERCER\n",
            "TERCERA\n",
            "TERCERA \n",
            "TERCERA C\n",
            "TERCERA CL\n",
            "TERCERA CLA\n",
            "TERCERA CLAS\n",
            "TERCERA CLASE\n"
          ]
        },
        {
          "output_type": "execute_result",
          "data": {
            "text/plain": [
              "'TERCERA CLASE'"
            ],
            "application/vnd.google.colaboratory.intrinsic+json": {
              "type": "string"
            }
          },
          "metadata": {},
          "execution_count": 89
        }
      ]
    },
    {
      "cell_type": "markdown",
      "source": [
        "# El objeto range"
      ],
      "metadata": {
        "id": "u-ay_Vmqqra2"
      }
    },
    {
      "cell_type": "code",
      "source": [
        "help(range)"
      ],
      "metadata": {
        "colab": {
          "base_uri": "https://localhost:8080/"
        },
        "collapsed": true,
        "id": "lsp5jYLuqqZr",
        "outputId": "106397a8-2723-4ba6-d497-3b0bdbb57fef"
      },
      "execution_count": null,
      "outputs": [
        {
          "output_type": "stream",
          "name": "stdout",
          "text": [
            "Help on class range in module builtins:\n",
            "\n",
            "class range(object)\n",
            " |  range(stop) -> range object\n",
            " |  range(start, stop[, step]) -> range object\n",
            " |  \n",
            " |  Return an object that produces a sequence of integers from start (inclusive)\n",
            " |  to stop (exclusive) by step.  range(i, j) produces i, i+1, i+2, ..., j-1.\n",
            " |  start defaults to 0, and stop is omitted!  range(4) produces 0, 1, 2, 3.\n",
            " |  These are exactly the valid indices for a list of 4 elements.\n",
            " |  When step is given, it specifies the increment (or decrement).\n",
            " |  \n",
            " |  Methods defined here:\n",
            " |  \n",
            " |  __bool__(self, /)\n",
            " |      True if self else False\n",
            " |  \n",
            " |  __contains__(self, key, /)\n",
            " |      Return key in self.\n",
            " |  \n",
            " |  __eq__(self, value, /)\n",
            " |      Return self==value.\n",
            " |  \n",
            " |  __ge__(self, value, /)\n",
            " |      Return self>=value.\n",
            " |  \n",
            " |  __getattribute__(self, name, /)\n",
            " |      Return getattr(self, name).\n",
            " |  \n",
            " |  __getitem__(self, key, /)\n",
            " |      Return self[key].\n",
            " |  \n",
            " |  __gt__(self, value, /)\n",
            " |      Return self>value.\n",
            " |  \n",
            " |  __hash__(self, /)\n",
            " |      Return hash(self).\n",
            " |  \n",
            " |  __iter__(self, /)\n",
            " |      Implement iter(self).\n",
            " |  \n",
            " |  __le__(self, value, /)\n",
            " |      Return self<=value.\n",
            " |  \n",
            " |  __len__(self, /)\n",
            " |      Return len(self).\n",
            " |  \n",
            " |  __lt__(self, value, /)\n",
            " |      Return self<value.\n",
            " |  \n",
            " |  __ne__(self, value, /)\n",
            " |      Return self!=value.\n",
            " |  \n",
            " |  __reduce__(...)\n",
            " |      Helper for pickle.\n",
            " |  \n",
            " |  __repr__(self, /)\n",
            " |      Return repr(self).\n",
            " |  \n",
            " |  __reversed__(...)\n",
            " |      Return a reverse iterator.\n",
            " |  \n",
            " |  count(...)\n",
            " |      rangeobject.count(value) -> integer -- return number of occurrences of value\n",
            " |  \n",
            " |  index(...)\n",
            " |      rangeobject.index(value) -> integer -- return index of value.\n",
            " |      Raise ValueError if the value is not present.\n",
            " |  \n",
            " |  ----------------------------------------------------------------------\n",
            " |  Static methods defined here:\n",
            " |  \n",
            " |  __new__(*args, **kwargs)\n",
            " |      Create and return a new object.  See help(type) for accurate signature.\n",
            " |  \n",
            " |  ----------------------------------------------------------------------\n",
            " |  Data descriptors defined here:\n",
            " |  \n",
            " |  start\n",
            " |  \n",
            " |  step\n",
            " |  \n",
            " |  stop\n",
            "\n"
          ]
        }
      ]
    },
    {
      "cell_type": "code",
      "source": [
        "x1 = range(4)\n",
        "x1"
      ],
      "metadata": {
        "colab": {
          "base_uri": "https://localhost:8080/"
        },
        "id": "qXaUnxV9qxiC",
        "outputId": "427c2e2e-9827-4fab-bc5c-a89015368eb5"
      },
      "execution_count": null,
      "outputs": [
        {
          "output_type": "execute_result",
          "data": {
            "text/plain": [
              "range(0, 4)"
            ]
          },
          "metadata": {},
          "execution_count": 94
        }
      ]
    },
    {
      "cell_type": "code",
      "source": [
        "x2 = range(12,36)\n",
        "x2"
      ],
      "metadata": {
        "colab": {
          "base_uri": "https://localhost:8080/"
        },
        "id": "CFKCn4nNrCr0",
        "outputId": "044d2f27-e6b1-4ac4-b408-8dc906a6214f"
      },
      "execution_count": null,
      "outputs": [
        {
          "output_type": "execute_result",
          "data": {
            "text/plain": [
              "range(12, 36)"
            ]
          },
          "metadata": {},
          "execution_count": 96
        }
      ]
    },
    {
      "cell_type": "code",
      "source": [
        "x3 = range(7,123,19)\n",
        "x3"
      ],
      "metadata": {
        "colab": {
          "base_uri": "https://localhost:8080/"
        },
        "id": "S6cdyA-lrIUC",
        "outputId": "7d9d148d-c107-488b-b374-43421601b216"
      },
      "execution_count": null,
      "outputs": [
        {
          "output_type": "execute_result",
          "data": {
            "text/plain": [
              "range(7, 123, 19)"
            ]
          },
          "metadata": {},
          "execution_count": 98
        }
      ]
    },
    {
      "cell_type": "code",
      "source": [
        "# Utilicemos una estructura repetitiva for para acceder a los elementos del objeto x1\n",
        "for elemento in x1:\n",
        "  print(elemento)"
      ],
      "metadata": {
        "colab": {
          "base_uri": "https://localhost:8080/"
        },
        "id": "7MOd5W6JrNkr",
        "outputId": "fe7f01f5-84e0-4276-cdc4-478624acc491"
      },
      "execution_count": null,
      "outputs": [
        {
          "output_type": "stream",
          "name": "stdout",
          "text": [
            "0\n",
            "1\n",
            "2\n",
            "3\n"
          ]
        }
      ]
    },
    {
      "cell_type": "code",
      "source": [
        "for e in x1:\n",
        "  print(\"e\",e,\"=> e**2 :\",e**2)"
      ],
      "metadata": {
        "colab": {
          "base_uri": "https://localhost:8080/"
        },
        "id": "rA3t4Kgcrtmw",
        "outputId": "d0b0673b-9f22-420b-8450-235fa199b145"
      },
      "execution_count": null,
      "outputs": [
        {
          "output_type": "stream",
          "name": "stdout",
          "text": [
            "e 0 => e**2 : 0\n",
            "e 1 => e**2 : 1\n",
            "e 2 => e**2 : 4\n",
            "e 3 => e**2 : 9\n"
          ]
        }
      ]
    },
    {
      "cell_type": "code",
      "source": [
        "# Utilicemso una estructura repetitiva para acceder a los elemntos de x2\n",
        "for j in x2:\n",
        "  print(j)"
      ],
      "metadata": {
        "colab": {
          "base_uri": "https://localhost:8080/"
        },
        "id": "RajaGh9WsGMu",
        "outputId": "a5a65919-12ad-43db-d7a4-b43e37a2d1b1"
      },
      "execution_count": null,
      "outputs": [
        {
          "output_type": "stream",
          "name": "stdout",
          "text": [
            "12\n",
            "13\n",
            "14\n",
            "15\n",
            "16\n",
            "17\n",
            "18\n",
            "19\n",
            "20\n",
            "21\n",
            "22\n",
            "23\n",
            "24\n",
            "25\n",
            "26\n",
            "27\n",
            "28\n",
            "29\n",
            "30\n",
            "31\n",
            "32\n",
            "33\n",
            "34\n",
            "35\n"
          ]
        }
      ]
    },
    {
      "cell_type": "code",
      "source": [
        "# para la funcion range\n",
        "  # Primer argumento: start\n",
        "  # Segundo argumento: stop\n",
        "  # Tercer argumento: step\n",
        "for K in x3:\n",
        "  print(K)"
      ],
      "metadata": {
        "colab": {
          "base_uri": "https://localhost:8080/"
        },
        "id": "STCcaySQt4_-",
        "outputId": "477fcb9b-e3f3-4fb6-c81f-d91f8cf5b21d"
      },
      "execution_count": null,
      "outputs": [
        {
          "output_type": "stream",
          "name": "stdout",
          "text": [
            "7\n",
            "26\n",
            "45\n",
            "64\n",
            "83\n",
            "102\n",
            "121\n"
          ]
        }
      ]
    },
    {
      "cell_type": "code",
      "source": [
        "#Ejemplito\n",
        "# Dado un numero de lementos proveido por el susurio, calcular la media geometrica\n",
        "# de los elementos ( tambien proveido por el usuario)\n",
        "\n",
        "#numero de lementos a operar\n",
        "n = int(input(\"Por favor ingrese el numero de elementos a operar: \"))\n",
        "\n",
        "#variable acumuladora\n",
        "productoria = 1\n",
        "\n",
        "# Pidamos al usuerio quie ingrese esos valores\n",
        "for valor in range(n):\n",
        "  num = float(input(\"Por favor ingrese la componente: \"))\n",
        "  if num != 0 :\n",
        "    productoria = productoria * num\n",
        "\n",
        "# Calculo de la media geometrica\n",
        "MG = productoria**(1/n)\n",
        "print(\"Para los\", n, \"valores ingresados. Su MG es : \", MG)"
      ],
      "metadata": {
        "colab": {
          "base_uri": "https://localhost:8080/"
        },
        "id": "m-YvtmwjuUn0",
        "outputId": "5944409b-db92-4697-f148-47061227d3f6"
      },
      "execution_count": null,
      "outputs": [
        {
          "output_type": "stream",
          "name": "stdout",
          "text": [
            "Por favor ingrese el numero de elementos a operar: 3\n",
            "Por favor ingrese la componente: 12\n",
            "Por favor ingrese la componente: 13\n",
            "Por favor ingrese la componente: 0\n",
            "Para los 3 valores ingresados. Su MG es :  5.383212612087283\n"
          ]
        }
      ]
    },
    {
      "cell_type": "code",
      "source": [
        "#Ejemplito\n",
        "# Generemos 100 numero en [0,1] usando la funcion del modulo random\n",
        "# y contemos cuantos son menores o iguales que 0.5\n",
        "\n",
        "#contador\n",
        "\n",
        "num_veces = 0\n",
        "for n in range(100) :\n",
        "  number_random = rnd.random()\n",
        "  if number_random <= 0.5:\n",
        "    num_veces = num_veces + 1\n",
        "\n",
        "print(\"numero de veces\", num_veces)"
      ],
      "metadata": {
        "colab": {
          "base_uri": "https://localhost:8080/"
        },
        "id": "GJbDjrwawp95",
        "outputId": "9b7feac4-f645-4955-915b-375a54e30f05"
      },
      "execution_count": null,
      "outputs": [
        {
          "output_type": "stream",
          "name": "stdout",
          "text": [
            "numero de veces 50\n"
          ]
        }
      ]
    },
    {
      "cell_type": "code",
      "source": [
        "#Deseo calcular el promedio de realizar un millon de veces el experimento de la celda anterior\n",
        "\n",
        "#acumular\n",
        "suma_num_veces = 0\n",
        "\n",
        "for exp in range(10**6):\n",
        "  #contador\n",
        "\n",
        "  num_veces = 0\n",
        "  for n in range(100) :\n",
        "    number_random = rnd.random()\n",
        "    if number_random <= 0.5:\n",
        "      num_veces = num_veces + 1\n",
        "  suma_num_veces = suma_num_veces + num_veces\n",
        "print(\"promedio\", suma_num_veces/10**6)"
      ],
      "metadata": {
        "colab": {
          "base_uri": "https://localhost:8080/"
        },
        "id": "obZCUPUQxZzt",
        "outputId": "a6ebc659-6602-41fe-ca83-52248277e3dd"
      },
      "execution_count": null,
      "outputs": [
        {
          "output_type": "stream",
          "name": "stdout",
          "text": [
            "promedio 49.992901\n"
          ]
        }
      ]
    }
  ]
}