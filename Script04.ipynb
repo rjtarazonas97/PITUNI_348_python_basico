{
  "nbformat": 4,
  "nbformat_minor": 0,
  "metadata": {
    "colab": {
      "provenance": [],
      "authorship_tag": "ABX9TyMbBUOpQM7KNMlh9M7jPyiC",
      "include_colab_link": true
    },
    "kernelspec": {
      "name": "python3",
      "display_name": "Python 3"
    },
    "language_info": {
      "name": "python"
    }
  },
  "cells": [
    {
      "cell_type": "markdown",
      "metadata": {
        "id": "view-in-github",
        "colab_type": "text"
      },
      "source": [
        "<a href=\"https://colab.research.google.com/github/rjtarazonas97/PITUNI_348_python_basico/blob/main/Script04.ipynb\" target=\"_parent\"><img src=\"https://colab.research.google.com/assets/colab-badge.svg\" alt=\"Open In Colab\"/></a>"
      ]
    },
    {
      "cell_type": "markdown",
      "source": [
        " # Repaso de las variables de tipo cadena de caracter"
      ],
      "metadata": {
        "id": "7ICzXX_zKoT5"
      }
    },
    {
      "cell_type": "code",
      "execution_count": null,
      "metadata": {
        "id": "2Wr604TgJ_io"
      },
      "outputs": [],
      "source": [
        "#Definamos un par de varaibles de tipo cadena de caracter\n",
        "c1 = \"Segunda Clase\"\n",
        "c2 = \"Viernes 1 de agosto del 2025\""
      ]
    },
    {
      "cell_type": "code",
      "source": [
        "#Concatenar y repetir varaibles de tipo cadena de caracter\n",
        "c3 = 2 * c1 + c2*5\n",
        "c3"
      ],
      "metadata": {
        "colab": {
          "base_uri": "https://localhost:8080/",
          "height": 35
        },
        "id": "ksFLhwr6LWjB",
        "outputId": "913afc51-570f-460e-e7b1-9b4fdc9b98ae"
      },
      "execution_count": null,
      "outputs": [
        {
          "output_type": "execute_result",
          "data": {
            "text/plain": [
              "'Segunda ClaseSegunda ClaseViernes 1 de agosto del 2025Viernes 1 de agosto del 2025Viernes 1 de agosto del 2025Viernes 1 de agosto del 2025Viernes 1 de agosto del 2025'"
            ],
            "application/vnd.google.colaboratory.intrinsic+json": {
              "type": "string"
            }
          },
          "metadata": {},
          "execution_count": 3
        }
      ]
    },
    {
      "cell_type": "code",
      "source": [
        "#Utilizando indices podemos acceder a elementos (caracteres) que componen a una cadena de caracteres"
      ],
      "metadata": {
        "id": "Qt5NOwxOLeTd"
      },
      "execution_count": null,
      "outputs": []
    },
    {
      "cell_type": "code",
      "source": [
        "#Accededamos a la quinta componente(quinto caracter) de c3\n",
        "c2[4]"
      ],
      "metadata": {
        "colab": {
          "base_uri": "https://localhost:8080/",
          "height": 35
        },
        "id": "MgjJHZIdMSrG",
        "outputId": "be61f4a0-f9e4-444d-9168-928293f3a260"
      },
      "execution_count": null,
      "outputs": [
        {
          "output_type": "execute_result",
          "data": {
            "text/plain": [
              "'n'"
            ],
            "application/vnd.google.colaboratory.intrinsic+json": {
              "type": "string"
            }
          },
          "metadata": {},
          "execution_count": 4
        }
      ]
    },
    {
      "cell_type": "code",
      "source": [
        "# Antepenultimo caracter de c2\n",
        "c2[-3]"
      ],
      "metadata": {
        "colab": {
          "base_uri": "https://localhost:8080/",
          "height": 35
        },
        "id": "Q4iB7IqVMffB",
        "outputId": "b93962f3-8f1f-48f6-f613-c5a768182cd8"
      },
      "execution_count": null,
      "outputs": [
        {
          "output_type": "execute_result",
          "data": {
            "text/plain": [
              "'0'"
            ],
            "application/vnd.google.colaboratory.intrinsic+json": {
              "type": "string"
            }
          },
          "metadata": {},
          "execution_count": 5
        }
      ]
    },
    {
      "cell_type": "code",
      "source": [
        "#Notacion slice: Util para obtener una subcadena de una cadena de caracteres"
      ],
      "metadata": {
        "id": "LWmpw2z8Mp-h"
      },
      "execution_count": null,
      "outputs": []
    },
    {
      "cell_type": "code",
      "source": [
        "#Obtengamos los 7 caracteres de c1\n",
        "c1[:6+1]"
      ],
      "metadata": {
        "colab": {
          "base_uri": "https://localhost:8080/",
          "height": 35
        },
        "id": "mhDOV4n9M2fh",
        "outputId": "0fab5c63-9113-44a5-84a0-9240c353e912"
      },
      "execution_count": null,
      "outputs": [
        {
          "output_type": "execute_result",
          "data": {
            "text/plain": [
              "'Segunda'"
            ],
            "application/vnd.google.colaboratory.intrinsic+json": {
              "type": "string"
            }
          },
          "metadata": {},
          "execution_count": 8
        }
      ]
    },
    {
      "cell_type": "code",
      "source": [
        "#Obtengamos los ultimos cuatro caracteres de c2\n",
        "c2[-4:]"
      ],
      "metadata": {
        "colab": {
          "base_uri": "https://localhost:8080/",
          "height": 35
        },
        "id": "gf2ypMctNLCM",
        "outputId": "a095a49c-2c5d-4f89-d47d-0f6b0444f780"
      },
      "execution_count": null,
      "outputs": [
        {
          "output_type": "execute_result",
          "data": {
            "text/plain": [
              "'2025'"
            ],
            "application/vnd.google.colaboratory.intrinsic+json": {
              "type": "string"
            }
          },
          "metadata": {},
          "execution_count": 9
        }
      ]
    },
    {
      "cell_type": "markdown",
      "source": [
        "# Metodos y atributos de una variable de tipo cadena de caracter\n",
        "\n",
        "Veremos este topico como parte del paradigma de la programacion orientada a objetos en python"
      ],
      "metadata": {
        "id": "3cuhl4FDSKkW"
      }
    },
    {
      "cell_type": "code",
      "source": [
        "# Listemos los metodos/Atributos que se puede aplicar a una variable de tipo cadena de caracter\n",
        "dir(c1)"
      ],
      "metadata": {
        "colab": {
          "base_uri": "https://localhost:8080/"
        },
        "id": "s-bq6NHqSUw8",
        "outputId": "e60be1e5-e29d-49f4-a16a-9a0fa36993cf"
      },
      "execution_count": null,
      "outputs": [
        {
          "output_type": "execute_result",
          "data": {
            "text/plain": [
              "['__add__',\n",
              " '__class__',\n",
              " '__contains__',\n",
              " '__delattr__',\n",
              " '__dir__',\n",
              " '__doc__',\n",
              " '__eq__',\n",
              " '__format__',\n",
              " '__ge__',\n",
              " '__getattribute__',\n",
              " '__getitem__',\n",
              " '__getnewargs__',\n",
              " '__getstate__',\n",
              " '__gt__',\n",
              " '__hash__',\n",
              " '__init__',\n",
              " '__init_subclass__',\n",
              " '__iter__',\n",
              " '__le__',\n",
              " '__len__',\n",
              " '__lt__',\n",
              " '__mod__',\n",
              " '__mul__',\n",
              " '__ne__',\n",
              " '__new__',\n",
              " '__reduce__',\n",
              " '__reduce_ex__',\n",
              " '__repr__',\n",
              " '__rmod__',\n",
              " '__rmul__',\n",
              " '__setattr__',\n",
              " '__sizeof__',\n",
              " '__str__',\n",
              " '__subclasshook__',\n",
              " 'capitalize',\n",
              " 'casefold',\n",
              " 'center',\n",
              " 'count',\n",
              " 'encode',\n",
              " 'endswith',\n",
              " 'expandtabs',\n",
              " 'find',\n",
              " 'format',\n",
              " 'format_map',\n",
              " 'index',\n",
              " 'isalnum',\n",
              " 'isalpha',\n",
              " 'isascii',\n",
              " 'isdecimal',\n",
              " 'isdigit',\n",
              " 'isidentifier',\n",
              " 'islower',\n",
              " 'isnumeric',\n",
              " 'isprintable',\n",
              " 'isspace',\n",
              " 'istitle',\n",
              " 'isupper',\n",
              " 'join',\n",
              " 'ljust',\n",
              " 'lower',\n",
              " 'lstrip',\n",
              " 'maketrans',\n",
              " 'partition',\n",
              " 'removeprefix',\n",
              " 'removesuffix',\n",
              " 'replace',\n",
              " 'rfind',\n",
              " 'rindex',\n",
              " 'rjust',\n",
              " 'rpartition',\n",
              " 'rsplit',\n",
              " 'rstrip',\n",
              " 'split',\n",
              " 'splitlines',\n",
              " 'startswith',\n",
              " 'strip',\n",
              " 'swapcase',\n",
              " 'title',\n",
              " 'translate',\n",
              " 'upper',\n",
              " 'zfill']"
            ]
          },
          "metadata": {},
          "execution_count": 10
        }
      ]
    },
    {
      "cell_type": "code",
      "source": [
        "# Por el momento(porque en el curso de intemedio esto va a cambiar) solo nos interesan los que estan escritos en minusculas y no poseen guines bajo(-)\n",
        " #'capitalize',\n",
        " #'casefold',\n",
        " #'center',\n",
        " #'count',\n",
        " #'encode',\n",
        " #'endswith',\n",
        " #'expandtabs',\n",
        " #'find',\n",
        " #'format',\n",
        " #'format_map',\n",
        " #'index',\n",
        " #'isalnum',\n",
        " #'isalpha',\n",
        " #'isascii',\n",
        " #'isdecimal',\n",
        " #'isdigit',\n",
        " #'isidentifier',\n",
        " #'islower',\n",
        " #'isnumeric',\n",
        " #'isprintable',\n",
        " #'isspace',\n",
        " #'istitle',\n",
        " #'isupper',\n",
        " #'join',\n",
        " #'ljust',\n",
        " #'lower',\n",
        " #'lstrip',\n",
        " #'maketrans',\n",
        " #'partition',\n",
        " #'removeprefix',\n",
        " #'removesuffix',\n",
        " #'replace',\n",
        " #'rfind',\n",
        " #'rindex',\n",
        " #'rjust',\n",
        " #'rpartition',"
      ],
      "metadata": {
        "id": "OKYj3t6nSqMi"
      },
      "execution_count": null,
      "outputs": []
    },
    {
      "cell_type": "code",
      "source": [
        "#Documentacion de capitalize\n",
        "help(c1.capitalize)"
      ],
      "metadata": {
        "colab": {
          "base_uri": "https://localhost:8080/"
        },
        "id": "w_-jwD9lTFf8",
        "outputId": "5cd71615-0838-48e9-e14e-1a2d4dc0d601"
      },
      "execution_count": null,
      "outputs": [
        {
          "output_type": "stream",
          "name": "stdout",
          "text": [
            "Help on built-in function capitalize:\n",
            "\n",
            "capitalize() method of builtins.str instance\n",
            "    Return a capitalized version of the string.\n",
            "    \n",
            "    More specifically, make the first character have upper case and the rest lower\n",
            "    case.\n",
            "\n"
          ]
        }
      ]
    },
    {
      "cell_type": "code",
      "source": [
        "\"hoy es viernes\".capitalize()"
      ],
      "metadata": {
        "colab": {
          "base_uri": "https://localhost:8080/",
          "height": 35
        },
        "id": "eV9XEGkZTxGN",
        "outputId": "b31d8d42-c771-414e-b289-2d3dd8781a01"
      },
      "execution_count": null,
      "outputs": [
        {
          "output_type": "execute_result",
          "data": {
            "text/plain": [
              "'Hoy es viernes'"
            ],
            "application/vnd.google.colaboratory.intrinsic+json": {
              "type": "string"
            }
          },
          "metadata": {},
          "execution_count": 14
        }
      ]
    },
    {
      "cell_type": "code",
      "source": [
        "\"01/08/2025\".capitalize()"
      ],
      "metadata": {
        "colab": {
          "base_uri": "https://localhost:8080/",
          "height": 35
        },
        "id": "hOTByEc4T2xS",
        "outputId": "bafe49b9-b918-4197-c2ba-f611bf6c2043"
      },
      "execution_count": null,
      "outputs": [
        {
          "output_type": "execute_result",
          "data": {
            "text/plain": [
              "'01/08/2025'"
            ],
            "application/vnd.google.colaboratory.intrinsic+json": {
              "type": "string"
            }
          },
          "metadata": {},
          "execution_count": 16
        }
      ]
    },
    {
      "cell_type": "code",
      "source": [
        "\"  el primer caracter es un espacio en blanco\".capitalize()"
      ],
      "metadata": {
        "colab": {
          "base_uri": "https://localhost:8080/",
          "height": 35
        },
        "id": "_gPbbBeMT_1c",
        "outputId": "7713a5c0-8a7d-435a-c21a-66fe962ae703"
      },
      "execution_count": null,
      "outputs": [
        {
          "output_type": "execute_result",
          "data": {
            "text/plain": [
              "'  el primer caracter es un espacio en blanco'"
            ],
            "application/vnd.google.colaboratory.intrinsic+json": {
              "type": "string"
            }
          },
          "metadata": {},
          "execution_count": 19
        }
      ]
    },
    {
      "cell_type": "code",
      "source": [
        "#Documentacion del metodo replace\n",
        "help(c1.replace)"
      ],
      "metadata": {
        "colab": {
          "base_uri": "https://localhost:8080/"
        },
        "id": "wOcr_S2hUp3_",
        "outputId": "cf79de52-59d9-4573-e011-7741ac44ae79"
      },
      "execution_count": null,
      "outputs": [
        {
          "output_type": "stream",
          "name": "stdout",
          "text": [
            "Help on built-in function replace:\n",
            "\n",
            "replace(old, new, count=-1, /) method of builtins.str instance\n",
            "    Return a copy with all occurrences of substring old replaced by new.\n",
            "    \n",
            "      count\n",
            "        Maximum number of occurrences to replace.\n",
            "        -1 (the default value) means replace all occurrences.\n",
            "    \n",
            "    If the optional argument count is given, only the first count occurrences are\n",
            "    replaced.\n",
            "\n"
          ]
        }
      ]
    },
    {
      "cell_type": "code",
      "source": [
        "#Utilicemos a c2 para acceder a la documentacion del metodo replace\n",
        "help(c2.replace)"
      ],
      "metadata": {
        "colab": {
          "base_uri": "https://localhost:8080/"
        },
        "id": "fqDRIrNiU4zr",
        "outputId": "59280b1f-ecee-4ff3-d2f0-bbbf134faed2"
      },
      "execution_count": null,
      "outputs": [
        {
          "output_type": "stream",
          "name": "stdout",
          "text": [
            "Help on built-in function replace:\n",
            "\n",
            "replace(old, new, count=-1, /) method of builtins.str instance\n",
            "    Return a copy with all occurrences of substring old replaced by new.\n",
            "    \n",
            "      count\n",
            "        Maximum number of occurrences to replace.\n",
            "        -1 (the default value) means replace all occurrences.\n",
            "    \n",
            "    If the optional argument count is given, only the first count occurrences are\n",
            "    replaced.\n",
            "\n"
          ]
        }
      ]
    },
    {
      "cell_type": "code",
      "source": [
        "help(c3.replace)"
      ],
      "metadata": {
        "colab": {
          "base_uri": "https://localhost:8080/"
        },
        "id": "j6Ihf8TaVBNk",
        "outputId": "3a37fc0a-c804-4d43-eaec-3a1b4f8ac3f4"
      },
      "execution_count": null,
      "outputs": [
        {
          "output_type": "stream",
          "name": "stdout",
          "text": [
            "Help on built-in function replace:\n",
            "\n",
            "replace(old, new, count=-1, /) method of builtins.str instance\n",
            "    Return a copy with all occurrences of substring old replaced by new.\n",
            "    \n",
            "      count\n",
            "        Maximum number of occurrences to replace.\n",
            "        -1 (the default value) means replace all occurrences.\n",
            "    \n",
            "    If the optional argument count is given, only the first count occurrences are\n",
            "    replaced.\n",
            "\n"
          ]
        }
      ]
    },
    {
      "cell_type": "code",
      "source": [
        "# Observacion: De la documentacion del metodo replace podemos concluir que los argumentos de old y new son argumentios obligatorios\n",
        "# tamnbien concluimos que el argumento count es opcional (pues, tiene un valor por defecto asignado)"
      ],
      "metadata": {
        "id": "IKwy2i40VQSb"
      },
      "execution_count": null,
      "outputs": []
    },
    {
      "cell_type": "code",
      "source": [
        "mensaje_importante = \"Los valientes que dieron la evaluacion fueron 2909\""
      ],
      "metadata": {
        "id": "TULKOrWwVeVg"
      },
      "execution_count": null,
      "outputs": []
    },
    {
      "cell_type": "code",
      "source": [
        "#reemplacemos la letra O por el 0\n",
        "mensaje_importante.replace(\"o\",\"0\")"
      ],
      "metadata": {
        "colab": {
          "base_uri": "https://localhost:8080/",
          "height": 35
        },
        "id": "jd1T22pyV5Fz",
        "outputId": "03265ec6-b94b-4917-d032-2e173dca8fd6"
      },
      "execution_count": null,
      "outputs": [
        {
          "output_type": "execute_result",
          "data": {
            "text/plain": [
              "'L0s valientes que dier0n la evaluaci0n fuer0n 2909'"
            ],
            "application/vnd.google.colaboratory.intrinsic+json": {
              "type": "string"
            }
          },
          "metadata": {},
          "execution_count": 32
        }
      ]
    },
    {
      "cell_type": "code",
      "source": [
        "#el valor de la varaible mensaje_imporante no a sido modificado\n",
        "mensaje_importante"
      ],
      "metadata": {
        "colab": {
          "base_uri": "https://localhost:8080/",
          "height": 35
        },
        "id": "yOt0i_r-WMKq",
        "outputId": "ee3f9583-214f-479a-83a6-d384fcf8604e"
      },
      "execution_count": null,
      "outputs": [
        {
          "output_type": "execute_result",
          "data": {
            "text/plain": [
              "'Los valientes que dieron la evaluacion fueron 2909'"
            ],
            "application/vnd.google.colaboratory.intrinsic+json": {
              "type": "string"
            }
          },
          "metadata": {},
          "execution_count": 33
        }
      ]
    },
    {
      "cell_type": "code",
      "source": [
        "# A la variable mesnaje improtante hagamosle las siguiente modificaciones\n",
        "#Reempolazar la letra \"a\" por \"4\"\n",
        "#Reempolazar la letra \"e\" por \"3\"\n",
        "#Reempolazar la letra \"i\" por \"1\"\n",
        "#Reempolazar la letra \"o\" por \"0\"\n",
        "#Reempolazar la letra \"u\" por \"-\"\n",
        "\n",
        "mensaje_importante.replace(\"a\",\"4\").replace(\"e\",\"3\").replace(\"i\",\"1\").replace(\"o\",\"0\").replace(\"u\",\"-\")"
      ],
      "metadata": {
        "colab": {
          "base_uri": "https://localhost:8080/",
          "height": 35
        },
        "id": "mu8ANuXFWdFH",
        "outputId": "c4c6436b-aedf-438b-d2c3-f62ae4d1d03d"
      },
      "execution_count": null,
      "outputs": [
        {
          "output_type": "execute_result",
          "data": {
            "text/plain": [
              "'L0s v4l13nt3s q-3 d13r0n l4 3v4l-4c10n f-3r0n 2909'"
            ],
            "application/vnd.google.colaboratory.intrinsic+json": {
              "type": "string"
            }
          },
          "metadata": {},
          "execution_count": 35
        }
      ]
    },
    {
      "cell_type": "code",
      "source": [
        "#tareita\n",
        "#De igual manea(y utilizando las misma estrategia) aprender a utilizar todo los metodos que puede\n",
        "#aplciar  a una variable de tipo cadenma de caracter"
      ],
      "metadata": {
        "id": "rj-BzmGcXFXC"
      },
      "execution_count": null,
      "outputs": []
    },
    {
      "cell_type": "markdown",
      "source": [
        "# El tipado dinamico del lenguaje de programacion Python"
      ],
      "metadata": {
        "id": "3_AKHmo3XY12"
      }
    },
    {
      "cell_type": "code",
      "source": [
        "# Definir una variable azc cuyo primer valor que sea 20\n",
        "azc = 20"
      ],
      "metadata": {
        "id": "kq22FKoRXc0O"
      },
      "execution_count": null,
      "outputs": []
    },
    {
      "cell_type": "code",
      "source": [
        "azc"
      ],
      "metadata": {
        "colab": {
          "base_uri": "https://localhost:8080/"
        },
        "id": "p3lfakbLXmLb",
        "outputId": "6ca37f6f-fd3f-48f0-a860-4cc71c829dcd"
      },
      "execution_count": null,
      "outputs": [
        {
          "output_type": "execute_result",
          "data": {
            "text/plain": [
              "20"
            ]
          },
          "metadata": {},
          "execution_count": 40
        }
      ]
    },
    {
      "cell_type": "code",
      "source": [
        "#Modificar elk valor almacenado en la varaible azc por \"A\"\n",
        "azc = \"A\"\n",
        "azc"
      ],
      "metadata": {
        "colab": {
          "base_uri": "https://localhost:8080/",
          "height": 35
        },
        "id": "p4vFw0MSXnb5",
        "outputId": "1e8ba7a8-a91d-4ff9-b0f2-c4f8595aa5a8"
      },
      "execution_count": null,
      "outputs": [
        {
          "output_type": "execute_result",
          "data": {
            "text/plain": [
              "'A'"
            ],
            "application/vnd.google.colaboratory.intrinsic+json": {
              "type": "string"
            }
          },
          "metadata": {},
          "execution_count": 43
        }
      ]
    },
    {
      "cell_type": "code",
      "source": [
        "# Nuevamente, voy a modficar el valor almacenado en la variable azc por True\n",
        "azc = True\n",
        "azc"
      ],
      "metadata": {
        "colab": {
          "base_uri": "https://localhost:8080/"
        },
        "id": "TUgMtIEMXsTT",
        "outputId": "94c81ec4-0272-4e98-f7fd-5628dbc3540a"
      },
      "execution_count": null,
      "outputs": [
        {
          "output_type": "execute_result",
          "data": {
            "text/plain": [
              "True"
            ]
          },
          "metadata": {},
          "execution_count": 45
        }
      ]
    },
    {
      "cell_type": "code",
      "source": [
        "#Los meotodos que se peuden aplocar a determinadas varaible depende unica y exclusivamente\n",
        "#del tipo de varaible\n",
        "#Necesito una funcion que me provee el tipo de variable en un determinado instante"
      ],
      "metadata": {
        "id": "KBzm6FdjYADB"
      },
      "execution_count": null,
      "outputs": []
    },
    {
      "cell_type": "code",
      "source": [
        "# La funcion type\n",
        "type(azc)"
      ],
      "metadata": {
        "colab": {
          "base_uri": "https://localhost:8080/"
        },
        "id": "vSZ6Ua0xYNa2",
        "outputId": "f7b799f2-c1c5-40eb-c0eb-3d067119e365"
      },
      "execution_count": null,
      "outputs": [
        {
          "output_type": "execute_result",
          "data": {
            "text/plain": [
              "bool"
            ]
          },
          "metadata": {},
          "execution_count": 48
        }
      ]
    },
    {
      "cell_type": "code",
      "source": [
        "azc = \"A\"\n",
        "type(azc)"
      ],
      "metadata": {
        "colab": {
          "base_uri": "https://localhost:8080/"
        },
        "id": "GfTqajzCYSWB",
        "outputId": "a2693e98-da7a-4314-ba75-b4a7a5eab247"
      },
      "execution_count": null,
      "outputs": [
        {
          "output_type": "execute_result",
          "data": {
            "text/plain": [
              "str"
            ]
          },
          "metadata": {},
          "execution_count": 51
        }
      ]
    },
    {
      "cell_type": "code",
      "source": [
        "azc = 20\n",
        "type(azc)"
      ],
      "metadata": {
        "colab": {
          "base_uri": "https://localhost:8080/"
        },
        "id": "F9seQSByYUIW",
        "outputId": "58f7dba9-14ed-4c87-c0cc-864118377d81"
      },
      "execution_count": null,
      "outputs": [
        {
          "output_type": "execute_result",
          "data": {
            "text/plain": [
              "int"
            ]
          },
          "metadata": {},
          "execution_count": 52
        }
      ]
    },
    {
      "cell_type": "markdown",
      "source": [
        "# Variables de naturaleza booleana(Logicas)"
      ],
      "metadata": {
        "id": "DdD4BtkyaAKO"
      }
    },
    {
      "cell_type": "code",
      "source": [
        "#Definimos una par de variables de naturaleza booleana\n",
        "b1 = True\n",
        "b2 = False"
      ],
      "metadata": {
        "id": "0THVWPLQaEcs"
      },
      "execution_count": null,
      "outputs": []
    },
    {
      "cell_type": "code",
      "source": [
        "#Podemios definir variables de tipo bool usando comparaciones entre objetos numericos (varaible de naturaleza booleana)\n",
        "\n",
        "b3 = 12 < 11\n",
        "b4 = 13 <= 18\n",
        "b5 = 3.5 > 2.7**(0.33)\n",
        "b6 = 2.8 >= 0.5\n",
        "b7 = 12 == 11.999999\n",
        "b8 = 8.5 != (1/2)"
      ],
      "metadata": {
        "id": "xH2wfujuaQRW"
      },
      "execution_count": null,
      "outputs": []
    },
    {
      "cell_type": "code",
      "source": [
        "type(b7)"
      ],
      "metadata": {
        "colab": {
          "base_uri": "https://localhost:8080/"
        },
        "id": "SW3xacYKbJUP",
        "outputId": "1c74ceab-cc9e-4d38-8c87-9e5ef322fb4f"
      },
      "execution_count": null,
      "outputs": [
        {
          "output_type": "execute_result",
          "data": {
            "text/plain": [
              "bool"
            ]
          },
          "metadata": {},
          "execution_count": 61
        }
      ]
    },
    {
      "cell_type": "code",
      "source": [
        "#Operaciones logicas : and, or, not\n",
        "b1 and b2"
      ],
      "metadata": {
        "colab": {
          "base_uri": "https://localhost:8080/"
        },
        "id": "NDnmEEsfbdiU",
        "outputId": "5cdc105f-ce10-4727-ba5c-f75e3556922f"
      },
      "execution_count": null,
      "outputs": [
        {
          "output_type": "execute_result",
          "data": {
            "text/plain": [
              "False"
            ]
          },
          "metadata": {},
          "execution_count": 67
        }
      ]
    },
    {
      "cell_type": "code",
      "source": [
        "b2 or b1"
      ],
      "metadata": {
        "colab": {
          "base_uri": "https://localhost:8080/"
        },
        "id": "lw-Z089teqkn",
        "outputId": "3dcf394d-230b-4e86-ec58-01da4888cabb"
      },
      "execution_count": null,
      "outputs": [
        {
          "output_type": "execute_result",
          "data": {
            "text/plain": [
              "True"
            ]
          },
          "metadata": {},
          "execution_count": 69
        }
      ]
    },
    {
      "cell_type": "code",
      "source": [
        "not True"
      ],
      "metadata": {
        "colab": {
          "base_uri": "https://localhost:8080/"
        },
        "id": "t4wkZ3e7etQe",
        "outputId": "39d7c796-0d96-4bdb-fbca-97ea50ce4a02"
      },
      "execution_count": null,
      "outputs": [
        {
          "output_type": "execute_result",
          "data": {
            "text/plain": [
              "False"
            ]
          },
          "metadata": {},
          "execution_count": 71
        }
      ]
    }
  ]
}