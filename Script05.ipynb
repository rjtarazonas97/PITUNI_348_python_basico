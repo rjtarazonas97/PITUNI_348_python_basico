{
  "nbformat": 4,
  "nbformat_minor": 0,
  "metadata": {
    "colab": {
      "provenance": [],
      "authorship_tag": "ABX9TyPGLiz56yPCZiML5JJ3km/L",
      "include_colab_link": true
    },
    "kernelspec": {
      "name": "python3",
      "display_name": "Python 3"
    },
    "language_info": {
      "name": "python"
    }
  },
  "cells": [
    {
      "cell_type": "markdown",
      "metadata": {
        "id": "view-in-github",
        "colab_type": "text"
      },
      "source": [
        "<a href=\"https://colab.research.google.com/github/rjtarazonas97/PITUNI_348_python_basico/blob/main/Script05.ipynb\" target=\"_parent\"><img src=\"https://colab.research.google.com/assets/colab-badge.svg\" alt=\"Open In Colab\"/></a>"
      ]
    },
    {
      "cell_type": "markdown",
      "source": [
        "# Funcion de entrada(input)\n",
        "\n",
        "\n",
        "\n",
        "*   La funcion que vamos a utilziar: input\n",
        "*   Input siempre almacena variables de tipo str\n",
        "*   Si la varaible a considerar debe ser de naturaleza numerica, entonces debemos UTilizar funciones que transformen lo que input provee en informacion numerica(Constructor)\n",
        "\n"
      ],
      "metadata": {
        "id": "MyAu03ezfSUg"
      }
    },
    {
      "cell_type": "code",
      "source": [
        "# Pidamos al usuario su nombre\n",
        "nombre_user = input(\"Ingresa tu primer nombre: \")"
      ],
      "metadata": {
        "colab": {
          "base_uri": "https://localhost:8080/"
        },
        "id": "jMAVLYIYfYoK",
        "outputId": "63851021-2244-4ac3-f949-185e31d5cbd9"
      },
      "execution_count": null,
      "outputs": [
        {
          "name": "stdout",
          "output_type": "stream",
          "text": [
            "Ingresa tu primer nombre: Jesus\n"
          ]
        }
      ]
    },
    {
      "cell_type": "code",
      "source": [
        "nombre_user"
      ],
      "metadata": {
        "colab": {
          "base_uri": "https://localhost:8080/",
          "height": 35
        },
        "id": "OukWmHOxhlWE",
        "outputId": "1ead6d57-2550-45f1-f884-97c20f115d65"
      },
      "execution_count": null,
      "outputs": [
        {
          "output_type": "execute_result",
          "data": {
            "text/plain": [
              "'Jesus'"
            ],
            "application/vnd.google.colaboratory.intrinsic+json": {
              "type": "string"
            }
          },
          "metadata": {},
          "execution_count": 3
        }
      ]
    },
    {
      "cell_type": "code",
      "source": [
        "type(nombre_user)"
      ],
      "metadata": {
        "colab": {
          "base_uri": "https://localhost:8080/"
        },
        "id": "h8-AR62phpEh",
        "outputId": "2d1f84a3-2790-489a-86be-79c79f630735"
      },
      "execution_count": null,
      "outputs": [
        {
          "output_type": "execute_result",
          "data": {
            "text/plain": [
              "str"
            ]
          },
          "metadata": {},
          "execution_count": 4
        }
      ]
    },
    {
      "cell_type": "code",
      "source": [
        "#Pidamos mas informacion al usuario\n",
        "seg_nombre_user = input(\"Ingresa tu segundo nombre: \")\n",
        "apell_pat_user = input(\"Ingresa tu apellido paterno: \")\n",
        "apell_mat_user = input(\"Ingresa tu apellido materno: \")"
      ],
      "metadata": {
        "colab": {
          "base_uri": "https://localhost:8080/"
        },
        "id": "y8oYJ5-Rhtot",
        "outputId": "3cd80599-d3f3-4476-bc4e-650d3c97be71"
      },
      "execution_count": null,
      "outputs": [
        {
          "name": "stdout",
          "output_type": "stream",
          "text": [
            "Ingresa tu segundo nombre: Jesus\n",
            "Ingresa tu apellido paterno: Tarazona\n",
            "Ingresa tu apellido materno: Sanchez\n"
          ]
        }
      ]
    },
    {
      "cell_type": "code",
      "source": [
        "type(seg_nombre_user)"
      ],
      "metadata": {
        "id": "oNyqYOa1hwig",
        "colab": {
          "base_uri": "https://localhost:8080/"
        },
        "outputId": "7ddff9c7-6162-4c1f-d2b1-a977924028ef"
      },
      "execution_count": null,
      "outputs": [
        {
          "output_type": "execute_result",
          "data": {
            "text/plain": [
              "str"
            ]
          },
          "metadata": {},
          "execution_count": 5
        }
      ]
    },
    {
      "cell_type": "code",
      "source": [
        "type(apell_pat_user)"
      ],
      "metadata": {
        "colab": {
          "base_uri": "https://localhost:8080/"
        },
        "id": "aNZFbwIApuvZ",
        "outputId": "cb712869-742e-4af7-f045-d9f1ce8bc449"
      },
      "execution_count": null,
      "outputs": [
        {
          "output_type": "execute_result",
          "data": {
            "text/plain": [
              "str"
            ]
          },
          "metadata": {},
          "execution_count": 7
        }
      ]
    },
    {
      "cell_type": "code",
      "source": [
        "type(apell_mat_user)"
      ],
      "metadata": {
        "colab": {
          "base_uri": "https://localhost:8080/"
        },
        "id": "-5bes_oepxbi",
        "outputId": "3806a829-3bca-4363-83d2-bd16bc37f50a"
      },
      "execution_count": null,
      "outputs": [
        {
          "output_type": "execute_result",
          "data": {
            "text/plain": [
              "str"
            ]
          },
          "metadata": {},
          "execution_count": 9
        }
      ]
    },
    {
      "cell_type": "code",
      "source": [
        "#Pido al usuario su estatura\n",
        "estatura_user = input(\"Ingresa tu estatura en metros: \")"
      ],
      "metadata": {
        "colab": {
          "base_uri": "https://localhost:8080/"
        },
        "id": "0qGHVoiapzHY",
        "outputId": "69f90fde-1863-41e9-a76b-2a1863251388"
      },
      "execution_count": null,
      "outputs": [
        {
          "name": "stdout",
          "output_type": "stream",
          "text": [
            "Ingresa tu estatura en metros: 1.85\n"
          ]
        }
      ]
    },
    {
      "cell_type": "code",
      "source": [
        "type(estatura_user)"
      ],
      "metadata": {
        "colab": {
          "base_uri": "https://localhost:8080/"
        },
        "id": "tz4ix1mTp32j",
        "outputId": "4931e8d2-7edd-4875-afd1-1b1def8fe417"
      },
      "execution_count": null,
      "outputs": [
        {
          "output_type": "execute_result",
          "data": {
            "text/plain": [
              "str"
            ]
          },
          "metadata": {},
          "execution_count": 13
        }
      ]
    },
    {
      "cell_type": "code",
      "source": [
        "# actualizar la variable de estatura_user\n",
        "estatura_user = float(estatura_user)"
      ],
      "metadata": {
        "id": "dWxaIWXXqFYy"
      },
      "execution_count": null,
      "outputs": []
    },
    {
      "cell_type": "code",
      "source": [
        "estatura_user"
      ],
      "metadata": {
        "colab": {
          "base_uri": "https://localhost:8080/"
        },
        "id": "R7flUDj3qOIi",
        "outputId": "1ba0bfca-14b0-42ae-b15a-565d72dae73a"
      },
      "execution_count": null,
      "outputs": [
        {
          "output_type": "execute_result",
          "data": {
            "text/plain": [
              "1.85"
            ]
          },
          "metadata": {},
          "execution_count": 17
        }
      ]
    },
    {
      "cell_type": "code",
      "source": [
        "type(estatura_user)"
      ],
      "metadata": {
        "colab": {
          "base_uri": "https://localhost:8080/"
        },
        "id": "FsJpz3DhqPaz",
        "outputId": "15aca600-f722-4cc2-8182-5cc13286e78e"
      },
      "execution_count": null,
      "outputs": [
        {
          "output_type": "execute_result",
          "data": {
            "text/plain": [
              "float"
            ]
          },
          "metadata": {},
          "execution_count": 19
        }
      ]
    },
    {
      "cell_type": "code",
      "source": [
        "#En funcion de lo desarrollado y explicado queda claro que el tipo de dato de la varaible\n",
        "#estatura_user es float (dato de naturaleza numerica)"
      ],
      "metadata": {
        "id": "nKfpTdyVqR-s"
      },
      "execution_count": null,
      "outputs": []
    },
    {
      "cell_type": "code",
      "source": [
        "#pidamors al usuario su edad, tambien pidamos al usuario su peso en kilos\n",
        "edad_user = int(input(\"Ingresa tu edad: \"))\n",
        "peso_user = float(input(\"Ingresa tu peso en kilos: \"))"
      ],
      "metadata": {
        "colab": {
          "base_uri": "https://localhost:8080/"
        },
        "id": "U9xb7yNUqc4y",
        "outputId": "85c9dc24-0646-4176-b07f-cabc88e0e459"
      },
      "execution_count": null,
      "outputs": [
        {
          "name": "stdout",
          "output_type": "stream",
          "text": [
            "Ingresa tu edad: 27\n",
            "Ingresa tu peso en kilos: 118\n"
          ]
        }
      ]
    },
    {
      "cell_type": "code",
      "source": [
        "edad_user"
      ],
      "metadata": {
        "colab": {
          "base_uri": "https://localhost:8080/"
        },
        "id": "79g8-Mveq4A9",
        "outputId": "b555d6bc-9028-41ff-db35-8cc880bbe0a1"
      },
      "execution_count": null,
      "outputs": [
        {
          "output_type": "execute_result",
          "data": {
            "text/plain": [
              "27"
            ]
          },
          "metadata": {},
          "execution_count": 24
        }
      ]
    },
    {
      "cell_type": "code",
      "source": [
        "peso_user"
      ],
      "metadata": {
        "colab": {
          "base_uri": "https://localhost:8080/"
        },
        "id": "bO-2Dv5wq-KA",
        "outputId": "27b6604b-6542-4290-aaa9-f706815711ab"
      },
      "execution_count": null,
      "outputs": [
        {
          "output_type": "execute_result",
          "data": {
            "text/plain": [
              "118.0"
            ]
          },
          "metadata": {},
          "execution_count": 26
        }
      ]
    },
    {
      "cell_type": "code",
      "source": [
        "type(peso_user)"
      ],
      "metadata": {
        "colab": {
          "base_uri": "https://localhost:8080/"
        },
        "id": "Nobd-jLZrAQl",
        "outputId": "664416cb-c208-422a-8ec6-d582c69d86f0"
      },
      "execution_count": null,
      "outputs": [
        {
          "output_type": "execute_result",
          "data": {
            "text/plain": [
              "float"
            ]
          },
          "metadata": {},
          "execution_count": 27
        }
      ]
    },
    {
      "cell_type": "code",
      "source": [
        "type(edad_user)"
      ],
      "metadata": {
        "colab": {
          "base_uri": "https://localhost:8080/"
        },
        "id": "VQ_GY3tsrEaG",
        "outputId": "9f242976-e248-45c7-c02f-4630714aaab4"
      },
      "execution_count": null,
      "outputs": [
        {
          "output_type": "execute_result",
          "data": {
            "text/plain": [
              "int"
            ]
          },
          "metadata": {},
          "execution_count": 28
        }
      ]
    },
    {
      "cell_type": "code",
      "source": [
        "#indice de la masa corporal : imc\n",
        "imc = peso_user/(estatura_user**2)\n",
        "imc"
      ],
      "metadata": {
        "colab": {
          "base_uri": "https://localhost:8080/"
        },
        "id": "-29oBRLVrMdt",
        "outputId": "d7e90852-b0c1-4809-b9f2-ced4d097bc29"
      },
      "execution_count": null,
      "outputs": [
        {
          "output_type": "execute_result",
          "data": {
            "text/plain": [
              "34.47772096420745"
            ]
          },
          "metadata": {},
          "execution_count": 31
        }
      ]
    },
    {
      "cell_type": "code",
      "source": [
        "#Ejemplo : Pedir al usuario los lados de un rectangulo y proceder con el calculo del area\n",
        "base = float(input(\"Ingresa la base del rectangulo: \"))\n",
        "altura = float(input(\"Ingresa la altura del rectangulo: \"))\n",
        "area = base*altura\n",
        "area"
      ],
      "metadata": {
        "colab": {
          "base_uri": "https://localhost:8080/"
        },
        "id": "Ldf6fQZYra9q",
        "outputId": "a22f9d26-f793-4b81-96a2-ebad48c400ed"
      },
      "execution_count": null,
      "outputs": [
        {
          "name": "stdout",
          "output_type": "stream",
          "text": [
            "Ingresa la base del rectangulo: 43\n",
            "Ingresa la altura del rectangulo: 0.5\n"
          ]
        },
        {
          "output_type": "execute_result",
          "data": {
            "text/plain": [
              "21.5"
            ]
          },
          "metadata": {},
          "execution_count": 32
        }
      ]
    },
    {
      "cell_type": "code",
      "source": [
        "# Dado el valor de x, aproximar mediante el polinomio de tylor la funcion seno\n",
        "# seno(x) = x - (x**3/3!) + (x**5/5!) - (x**7/7!) + ..."
      ],
      "metadata": {
        "id": "XZdaJuYhsBN7"
      },
      "execution_count": null,
      "outputs": []
    },
    {
      "cell_type": "code",
      "source": [
        "#carguemos el modulode math\n",
        "import math as m\n",
        "help(m.factorial)"
      ],
      "metadata": {
        "colab": {
          "base_uri": "https://localhost:8080/"
        },
        "id": "QnwGGjqgsgw9",
        "outputId": "ca070a14-2133-42e6-c12f-8c0e2c5bf705"
      },
      "execution_count": null,
      "outputs": [
        {
          "output_type": "stream",
          "name": "stdout",
          "text": [
            "Help on built-in function factorial in module math:\n",
            "\n",
            "factorial(n, /)\n",
            "    Find n!.\n",
            "    \n",
            "    Raise a ValueError if x is negative or non-integral.\n",
            "\n"
          ]
        }
      ]
    },
    {
      "cell_type": "code",
      "source": [
        "# Utilicemos los primero 4 terminos de l polinomio de tylor para aproximar la funcion seno\n",
        "# en el valor pi/6 radianes\n",
        "\n",
        "# Este valor puede ser proveido por el usuario\n",
        "# valor_x = m.pi/6\n",
        "valor_x = float(input(\"Ingrese el angulo (En radianes) : \"))\n",
        "# valor proveido del modulo de math\n",
        "seno_math = m.sin(valor_x)\n",
        "# Utilizamos el polinomio de tylor para calcular una aproximacion\n",
        "seno_tylor =  valor_x - ((valor_x**3)/m.factorial(3)) + ((valor_x**5)/m.factorial(5)) - ((valor_x**7)/m.factorial(7))\n",
        "seno_tylor"
      ],
      "metadata": {
        "colab": {
          "base_uri": "https://localhost:8080/"
        },
        "id": "KdNSS2Hesv4N",
        "outputId": "5b1c9c8b-2a71-48ab-b8be-e7abd4bc0627"
      },
      "execution_count": null,
      "outputs": [
        {
          "name": "stdout",
          "output_type": "stream",
          "text": [
            "Ingrese el angulo (En radianes) : 0.7853\n"
          ]
        },
        {
          "output_type": "execute_result",
          "data": {
            "text/plain": [
              "0.7070370545143422"
            ]
          },
          "metadata": {},
          "execution_count": 41
        }
      ]
    },
    {
      "cell_type": "code",
      "source": [
        "# En vista que el valor teorico del seno de pi/6 es 0.5, podemos calcular el error\n",
        "# que comete la funcion sin del modulo math y tambien el error que comete nuestra\n",
        "#aproximacion de tylor\n",
        "error_sin = m.fabs( m.sqrt(2)/2 - seno_math)\n",
        "error_tylor = m.fabs(m.sqrt(2)/2 - seno_tylor)"
      ],
      "metadata": {
        "id": "0toI7stgt1Rm"
      },
      "execution_count": null,
      "outputs": []
    },
    {
      "cell_type": "code",
      "source": [
        "error_sin"
      ],
      "metadata": {
        "colab": {
          "base_uri": "https://localhost:8080/"
        },
        "id": "8f9pOxcrvQSN",
        "outputId": "4ff22bce-df1a-4b6d-eda5-8cd92ab92002"
      },
      "execution_count": null,
      "outputs": [
        {
          "output_type": "execute_result",
          "data": {
            "text/plain": [
              "6.941541074767521e-05"
            ]
          },
          "metadata": {},
          "execution_count": 47
        }
      ]
    },
    {
      "cell_type": "code",
      "source": [
        "error_tylor"
      ],
      "metadata": {
        "colab": {
          "base_uri": "https://localhost:8080/"
        },
        "id": "tNYg0GYOvR5h",
        "outputId": "55a3bec4-774a-4211-8c92-bc74fa5a3a25"
      },
      "execution_count": null,
      "outputs": [
        {
          "output_type": "execute_result",
          "data": {
            "text/plain": [
              "6.972667220539464e-05"
            ]
          },
          "metadata": {},
          "execution_count": 48
        }
      ]
    },
    {
      "cell_type": "code",
      "source": [
        "# Podemos concluir que la aproximacion mas precisa es : error_sin"
      ],
      "metadata": {
        "id": "RDqnvrIBvUix"
      },
      "execution_count": null,
      "outputs": []
    },
    {
      "cell_type": "code",
      "source": [
        " # Ejemplito : calculemos el interes simple de un monto proveido por el usuario a una tasa del 10% anual con un\n",
        " # horizonte (t) dado por el usuario.\n",
        "\n",
        "M0 = float(input(\"Ingrese el monto inicial: \"))\n",
        "t = float(input(\"Ingrese el tiempo en años: \"))\n",
        "\n",
        "  # Taza de interes la definimos como una variable\n",
        "i = 0.1\n",
        "\n",
        "  # Calculamos el interes\n",
        "interes = M0 * i * t\n",
        "interes"
      ],
      "metadata": {
        "colab": {
          "base_uri": "https://localhost:8080/"
        },
        "id": "VJhIWCgUz_4-",
        "outputId": "6d4300ab-5b98-4360-b8d7-c076ee566079"
      },
      "execution_count": null,
      "outputs": [
        {
          "name": "stdout",
          "output_type": "stream",
          "text": [
            "Ingrese el monto inicial: 1450\n",
            "Ingrese el tiempo en años: 2.5\n"
          ]
        },
        {
          "output_type": "execute_result",
          "data": {
            "text/plain": [
              "362.5"
            ]
          },
          "metadata": {},
          "execution_count": 53
        }
      ]
    },
    {
      "cell_type": "code",
      "source": [
        "# Tambien podemos calcular el monto final\n",
        "MF = M0 + interes\n",
        "MF"
      ],
      "metadata": {
        "colab": {
          "base_uri": "https://localhost:8080/"
        },
        "id": "CpkNRJfg2EFe",
        "outputId": "5862f5a0-11f4-4e2f-f620-348e80af03b5"
      },
      "execution_count": null,
      "outputs": [
        {
          "output_type": "execute_result",
          "data": {
            "text/plain": [
              "1812.5"
            ]
          },
          "metadata": {},
          "execution_count": 54
        }
      ]
    },
    {
      "cell_type": "markdown",
      "source": [
        "# Funcion de salida: print"
      ],
      "metadata": {
        "id": "_L9mLk6-3glp"
      }
    },
    {
      "cell_type": "code",
      "source": [
        "# print : recibe una cade de catracteres\n",
        "print(\"Segunda Clase\")"
      ],
      "metadata": {
        "colab": {
          "base_uri": "https://localhost:8080/"
        },
        "id": "rvS_OoZr3kkh",
        "outputId": "da910c1d-1834-46b4-d18c-6a089cd6ad98"
      },
      "execution_count": null,
      "outputs": [
        {
          "output_type": "stream",
          "name": "stdout",
          "text": [
            "Segunda Clase\n"
          ]
        }
      ]
    },
    {
      "cell_type": "code",
      "source": [
        "# Mostremos el camor del monto final del ejemplo anterior\n",
        "print(\"El monto final es: \", MF)"
      ],
      "metadata": {
        "colab": {
          "base_uri": "https://localhost:8080/"
        },
        "id": "qWsde_K63r6v",
        "outputId": "bb9e57e0-901b-4dde-de11-f56c46ef8791"
      },
      "execution_count": null,
      "outputs": [
        {
          "output_type": "stream",
          "name": "stdout",
          "text": [
            "El monto final es:  1812.5\n"
          ]
        }
      ]
    },
    {
      "cell_type": "code",
      "source": [
        "#\n",
        "print(\"El monto inicial es: \", M0)"
      ],
      "metadata": {
        "colab": {
          "base_uri": "https://localhost:8080/"
        },
        "id": "PW-JB8dT4JTj",
        "outputId": "fc6abf6a-25ca-4ba4-e962-5f044151c093"
      },
      "execution_count": null,
      "outputs": [
        {
          "output_type": "stream",
          "name": "stdout",
          "text": [
            "El monto inicial es:  1450.0\n"
          ]
        }
      ]
    },
    {
      "cell_type": "code",
      "source": [
        "# Mostramos ambos datos : M0 y MF\n",
        "print(\"El monto inicial es: \", M0, \"El monto final es: \", MF)"
      ],
      "metadata": {
        "colab": {
          "base_uri": "https://localhost:8080/"
        },
        "id": "VSG20-C94OhJ",
        "outputId": "8a86b37f-6946-4e91-e0c5-acb45c847c63"
      },
      "execution_count": null,
      "outputs": [
        {
          "output_type": "stream",
          "name": "stdout",
          "text": [
            "El monto inicial es:  1450.0 El monto final es:  1812.5\n"
          ]
        }
      ]
    },
    {
      "cell_type": "code",
      "source": [
        "# Mostremos la informacion anterior en dos lineas\n",
        "print(\"El monto inicial es: \", M0, \"\\nEl monto final es: \", MF)"
      ],
      "metadata": {
        "colab": {
          "base_uri": "https://localhost:8080/"
        },
        "id": "45EgZgkr4S8-",
        "outputId": "a6072f9e-49d3-4e66-c159-abc8dd3a48ad"
      },
      "execution_count": null,
      "outputs": [
        {
          "output_type": "stream",
          "name": "stdout",
          "text": [
            "El monto inicial es:  1450.0 \n",
            "El monto final es:  1812.5\n"
          ]
        }
      ]
    },
    {
      "cell_type": "code",
      "source": [
        "# Ejemplito: Pedir el usuario los 3 lados de un triangulo y calcular su area unsando la formula de Heron\n",
        "\n",
        "#input : Las entradas que requiero pedir al usuario\n",
        "lado1 = float(input(\"Ingrese el primer lado: \"))\n",
        "lado2 = float(input(\"Ingrese el segundo lado: \"))\n",
        "lado3 = float(input(\"Ingrese el tercer lado: \"))\n",
        "\n",
        "# Operaciones a realizar para obtener el resultado deseado\n",
        "semi_perimetro = (lado1 + lado2 + lado3)/2\n",
        "area_triangulo = (semi_perimetro*(semi_perimetro-lado1)*(semi_perimetro-lado2)*(semi_perimetro-lado3))**0.5\n",
        "\n",
        "# Output : Las salidas que mostraremos al usuario\n",
        "print(\"--------------------------------------------\")\n",
        "print(\"Los lados ingresado son : \")\n",
        "print(\"Lado 1: \", lado1)\n",
        "print(\"Lado 2: \", lado2)\n",
        "print(\"Lado 3: \", lado3)\n",
        "print(\"Usando la formula de HEron : \", area_triangulo)\n",
        "print(\"--------------------------------------------\")"
      ],
      "metadata": {
        "colab": {
          "base_uri": "https://localhost:8080/"
        },
        "id": "_t-CPe7E4iUU",
        "outputId": "be9a7997-7079-42c6-cc06-1309509cb9a0"
      },
      "execution_count": null,
      "outputs": [
        {
          "output_type": "stream",
          "name": "stdout",
          "text": [
            "Ingrese el primer lado: 3\n",
            "Ingrese el segundo lado: 4\n",
            "Ingrese el tercer lado: 5\n",
            "--------------------------------------------\n",
            "Los lados ingresado son : \n",
            "Lado 1:  3.0\n",
            "Lado 2:  4.0\n",
            "Lado 3:  5.0\n",
            "Usando la formula de HEron :  6.0\n",
            "--------------------------------------------\n"
          ]
        }
      ]
    },
    {
      "cell_type": "code",
      "source": [
        "# Output : Las salidas que mostraremos al usuario\n",
        "print(\"--------------------------------------------\")\n",
        "print(\"Los lados ingresado son : \")\n",
        "print(\"Primer lado : %.2f \" %(lado1))\n",
        "print(\"segundo lado: %.2f \\nTercer lado: %.2f\" %(lado2, lado3))\n",
        "print(\"Usando la formula de Heron : Area : %.4f \" %(area_triangulo))\n",
        "print(\"--------------------------------------------\")"
      ],
      "metadata": {
        "colab": {
          "base_uri": "https://localhost:8080/"
        },
        "id": "XvjUKwsp61w7",
        "outputId": "aa1b5dd7-44e7-4482-fdc5-6b82d670d142"
      },
      "execution_count": null,
      "outputs": [
        {
          "output_type": "stream",
          "name": "stdout",
          "text": [
            "--------------------------------------------\n",
            "Los lados ingresado son : \n",
            "Primer lado : 3.00 \n",
            "segundo lado: 4.00 \n",
            "Tercer lado: 5.00\n",
            "Usando la formula de Heron : Area : 6.0000 \n",
            "--------------------------------------------\n"
          ]
        }
      ]
    },
    {
      "cell_type": "code",
      "source": [
        "#Otra modificacion al print\n",
        "print(\"\"\"\n",
        "--------------------------------------------\n",
        "Los lados ingresado son :\n",
        "Primer lado : %.2f\n",
        "segundo lado: %.2f\n",
        "Tercer lado: %.2f\n",
        "Usando la formula de Heron : Area : %.4f\n",
        "--------------------------------------------\n",
        "\n",
        "\"\"\"%(lado1, lado2, lado3, area_triangulo))"
      ],
      "metadata": {
        "colab": {
          "base_uri": "https://localhost:8080/"
        },
        "id": "n7GEc7JS_Oxf",
        "outputId": "bd412752-34ea-405f-dbdf-7b45f05734c6"
      },
      "execution_count": null,
      "outputs": [
        {
          "output_type": "stream",
          "name": "stdout",
          "text": [
            "\n",
            "--------------------------------------------\n",
            "Los lados ingresado son : \n",
            "Primer lado : 3.00 \n",
            "segundo lado: 4.00 \n",
            "Tercer lado: 5.00\n",
            "Usando la formula de Heron : Area : 6.0000 \n",
            "--------------------------------------------\n",
            "\n",
            "\n"
          ]
        }
      ]
    },
    {
      "cell_type": "code",
      "source": [
        "# Ejemplito: Consideremos que el usuario provee 3 numero punto flotante. Calcular\n",
        "#el promedio aritmetico, el promedio geometrico y el promedio armonico.\n",
        "\n",
        "#input : Entradas de mi programita\n",
        "num1 = float(input(\"Ingrese el primer numero: \"))\n",
        "num2 = float(input(\"Ingrese el segundo numero: \"))\n",
        "num3 = float(input(\"Ingrese el tercer numero: \"))\n",
        "\n",
        "# Operaciones a realizar\n",
        "# Basadas en : Baldor, A.(1973). Algebra elemental.\n",
        "\n",
        "# Teoricamente: La media ritmetica se calcula como la suma de lo valores entre enl numero de valores\n",
        "promedio_aritmetico = (num1 + num2 + num3)/3\n",
        "\n",
        "# Teoricamente: La media geometrica se calcula como el producto de valores elevado a la inversa del numero de valores\n",
        "promedio_geometrico = (num1 * num2 * num3)**(1/3)\n",
        "\n",
        "# Teoricamente : La media armonica de calcula como el numero de valores sobre la suma de inversas de los valores\n",
        "promedio_armonico = 3/(1/num1 + 1/num2 + 1/num3)\n",
        "\n",
        "# Output : Salidas de mi programita\n",
        "# Utilizar la estretegia de docsString\n",
        "print(\"\"\"\n",
        "--------------------------------------------\n",
        "Los numeros ingresados son :\n",
        "Primer numero : %.2f\n",
        "segundo numero: %.2f\n",
        "Tercer numero: %.2f\n",
        "\n",
        "Media aritmetica : %.3f\n",
        "Media geometrica : %.3f\n",
        "Media armonica : %.3f\n",
        "--------------------------------------------\n",
        "\n",
        "Implementacion desarrollada por PIT348\n",
        "\n",
        "\"\"\"%(num1, num2, num3, promedio_aritmetico, promedio_geometrico, promedio_armonico))"
      ],
      "metadata": {
        "colab": {
          "base_uri": "https://localhost:8080/"
        },
        "id": "tVKe8Yx-_4LW",
        "outputId": "6826b3bf-3592-4f3f-de8f-f36e5ca9bcfd"
      },
      "execution_count": null,
      "outputs": [
        {
          "output_type": "stream",
          "name": "stdout",
          "text": [
            "Ingrese el primer numero: 12\n",
            "Ingrese el segundo numero: 13\n",
            "Ingrese el tercer numero: 19\n",
            "\n",
            "--------------------------------------------\n",
            "Los numeros ingresados son : \n",
            "Primer numero : 12.00 \n",
            "segundo numero: 13.00 \n",
            "Tercer numero: 19.00\n",
            "\n",
            "Media aritmetica : 14.667 \n",
            "Media geometrica : 14.365 \n",
            "Media armonica : 14.092 \n",
            "--------------------------------------------\n",
            "\n",
            "Implementacion desarrollada por PIT348\n",
            "\n",
            "\n"
          ]
        }
      ]
    }
  ]
}