{
  "nbformat": 4,
  "nbformat_minor": 0,
  "metadata": {
    "colab": {
      "provenance": [],
      "authorship_tag": "ABX9TyMg+SszWda5bsZc5Lypk6Wg",
      "include_colab_link": true
    },
    "kernelspec": {
      "name": "python3",
      "display_name": "Python 3"
    },
    "language_info": {
      "name": "python"
    }
  },
  "cells": [
    {
      "cell_type": "markdown",
      "metadata": {
        "id": "view-in-github",
        "colab_type": "text"
      },
      "source": [
        "<a href=\"https://colab.research.google.com/github/rjtarazonas97/PITUNI_348_python_basico/blob/main/Script01.ipynb\" target=\"_parent\"><img src=\"https://colab.research.google.com/assets/colab-badge.svg\" alt=\"Open In Colab\"/></a>"
      ]
    },
    {
      "cell_type": "code",
      "execution_count": null,
      "metadata": {
        "id": "2NHoe7iKiZrQ"
      },
      "outputs": [],
      "source": [
        "# Este es el primer comentario del curso"
      ]
    },
    {
      "cell_type": "code",
      "source": [
        "# Esta es la segunda celda cdel codigo"
      ],
      "metadata": {
        "id": "-EWKwa8bkRJS"
      },
      "execution_count": null,
      "outputs": []
    },
    {
      "cell_type": "code",
      "source": [
        "#El primer paso es crear un directorio en google drive (Directorio de trabajo del curso)\n",
        "# y dentro de este directorio, vamos a c rear un directorio para cada sesion/clase\n",
        "#"
      ],
      "metadata": {
        "id": "ZCk3ClgWk3K_"
      },
      "execution_count": null,
      "outputs": []
    },
    {
      "cell_type": "code",
      "source": [
        "# Los comentarios son fundamentales y nunca son demasiados comentarios"
      ],
      "metadata": {
        "id": "aGQ8Qtm5k2fk"
      },
      "execution_count": null,
      "outputs": []
    },
    {
      "cell_type": "code",
      "source": [
        "# El primer paso: Creacion de variables\n",
        "x1 = 30\n",
        "x2 = 0.002\n",
        "x3 = \"Que pesima clase!!!\"\n",
        "x4 = True\n",
        "x5 = False\n",
        "x6 = 2 + 3.5j\n",
        "\n",
        "# Podemos observar los facil que es definir variables en Python\n"
      ],
      "metadata": {
        "id": "7EudlMWglGo1"
      },
      "execution_count": null,
      "outputs": []
    },
    {
      "cell_type": "code",
      "source": [
        "y1 = 'Primera clase del curso Python'\n",
        "y2 = 1/3.8\n",
        "y3 = 2.3 + (3.6 * 5.6)\n",
        "y4 = False\n",
        "y5 = (2.3 +9j) * (2.5j)"
      ],
      "metadata": {
        "id": "YFLiYdN5mf87"
      },
      "execution_count": null,
      "outputs": []
    }
  ]
}