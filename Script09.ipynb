{
  "nbformat": 4,
  "nbformat_minor": 0,
  "metadata": {
    "colab": {
      "provenance": [],
      "authorship_tag": "ABX9TyPhKh3gypRxZQOvJTKZb3fK",
      "include_colab_link": true
    },
    "kernelspec": {
      "name": "python3",
      "display_name": "Python 3"
    },
    "language_info": {
      "name": "python"
    }
  },
  "cells": [
    {
      "cell_type": "markdown",
      "metadata": {
        "id": "view-in-github",
        "colab_type": "text"
      },
      "source": [
        "<a href=\"https://colab.research.google.com/github/rjtarazonas97/PITUNI_348_python_basico/blob/main/Script09.ipynb\" target=\"_parent\"><img src=\"https://colab.research.google.com/assets/colab-badge.svg\" alt=\"Open In Colab\"/></a>"
      ]
    },
    {
      "cell_type": "markdown",
      "source": [
        "# Funciones"
      ],
      "metadata": {
        "id": "j72scvcm1Kgd"
      }
    },
    {
      "cell_type": "code",
      "source": [
        "# Sintaxis\n",
        "def saludo():\n",
        "  print(\"Por fin acabo el peor curso de mi vida\")"
      ],
      "metadata": {
        "id": "BVRenH0H1Nxu"
      },
      "execution_count": null,
      "outputs": []
    },
    {
      "cell_type": "code",
      "source": [
        "saludo()"
      ],
      "metadata": {
        "colab": {
          "base_uri": "https://localhost:8080/"
        },
        "id": "N5iwhQa-1a-z",
        "outputId": "e72ca2c5-0105-4ca2-b610-796a4003cd0a"
      },
      "execution_count": null,
      "outputs": [
        {
          "output_type": "stream",
          "name": "stdout",
          "text": [
            "Por fin acabo el peor curso de mi vida\n"
          ]
        }
      ]
    },
    {
      "cell_type": "code",
      "source": [
        "for ejecucion in range(10):\n",
        "  saludo()"
      ],
      "metadata": {
        "colab": {
          "base_uri": "https://localhost:8080/"
        },
        "id": "zigzGy5l1d4A",
        "outputId": "d72ad705-dcdb-437d-e46b-4bd3489241aa"
      },
      "execution_count": null,
      "outputs": [
        {
          "output_type": "stream",
          "name": "stdout",
          "text": [
            "Por fin acabo el peor curso de mi vida\n",
            "Por fin acabo el peor curso de mi vida\n",
            "Por fin acabo el peor curso de mi vida\n",
            "Por fin acabo el peor curso de mi vida\n",
            "Por fin acabo el peor curso de mi vida\n",
            "Por fin acabo el peor curso de mi vida\n",
            "Por fin acabo el peor curso de mi vida\n",
            "Por fin acabo el peor curso de mi vida\n",
            "Por fin acabo el peor curso de mi vida\n",
            "Por fin acabo el peor curso de mi vida\n"
          ]
        }
      ]
    },
    {
      "cell_type": "code",
      "source": [
        "# Generacion de una lista de tamano fijo de numero aleatorio en [0,20]\n",
        "def makenotas():\n",
        "  lista_notas = list()\n",
        "  import random as rnd\n",
        "  for nota in range(10):\n",
        "    lista_notas.append(rnd.randint(0,20))\n",
        "  return lista_notas"
      ],
      "metadata": {
        "id": "BHtAzNWL19vd"
      },
      "execution_count": null,
      "outputs": []
    },
    {
      "cell_type": "code",
      "source": [
        "l1 = makenotas()\n",
        "l1"
      ],
      "metadata": {
        "colab": {
          "base_uri": "https://localhost:8080/"
        },
        "id": "3Ria1F6e2WbT",
        "outputId": "b9838d4c-5fd6-4713-fa90-8841b45f2e41"
      },
      "execution_count": null,
      "outputs": [
        {
          "output_type": "execute_result",
          "data": {
            "text/plain": [
              "[11, 4, 9, 15, 0, 3, 2, 11, 12, 10]"
            ]
          },
          "metadata": {},
          "execution_count": 7
        }
      ]
    },
    {
      "cell_type": "code",
      "source": [
        "# Implementemos una funcion quye devuelva la hora actual como una variable de tipo str\n",
        "import datetime\n",
        "def hora_actual():\n",
        "  return datetime.datetime.now().strftime(\"%H:%M:%S\")"
      ],
      "metadata": {
        "id": "KxnfzvVb_v3B"
      },
      "execution_count": null,
      "outputs": []
    },
    {
      "cell_type": "code",
      "source": [
        "sexta_clase = hora_actual()\n",
        "sexta_clase"
      ],
      "metadata": {
        "colab": {
          "base_uri": "https://localhost:8080/",
          "height": 35
        },
        "id": "9tfanq0PAAA1",
        "outputId": "301e8c36-b8e5-46f0-8a82-09c8990440ab"
      },
      "execution_count": null,
      "outputs": [
        {
          "output_type": "execute_result",
          "data": {
            "text/plain": [
              "'21:19:06'"
            ],
            "application/vnd.google.colaboratory.intrinsic+json": {
              "type": "string"
            }
          },
          "metadata": {},
          "execution_count": 11
        }
      ]
    },
    {
      "cell_type": "code",
      "source": [
        "#Tipo de dato\n",
        "type(sexta_clase)"
      ],
      "metadata": {
        "colab": {
          "base_uri": "https://localhost:8080/"
        },
        "id": "M4HzgAkNAI8B",
        "outputId": "4b36e5bf-0803-40fd-f928-a4885d660801"
      },
      "execution_count": null,
      "outputs": [
        {
          "output_type": "execute_result",
          "data": {
            "text/plain": [
              "str"
            ]
          },
          "metadata": {},
          "execution_count": 12
        }
      ]
    },
    {
      "cell_type": "code",
      "source": [
        "#Funciones obligatorias\n",
        "def area_rectangulo(base, altura):\n",
        "  return base * altura\n",
        "\n",
        "base = 120\n",
        "altura = 23\n",
        "area_mi_terreno = area_rectangulo(base, altura)\n",
        "area_mi_terreno"
      ],
      "metadata": {
        "colab": {
          "base_uri": "https://localhost:8080/"
        },
        "id": "8Ij63taMAzLM",
        "outputId": "2f59233c-0a32-49dd-e3a2-9fb9a4d1fd0a"
      },
      "execution_count": null,
      "outputs": [
        {
          "output_type": "execute_result",
          "data": {
            "text/plain": [
              "2760"
            ]
          },
          "metadata": {},
          "execution_count": 15
        }
      ]
    },
    {
      "cell_type": "code",
      "source": [
        "# Dado un numero entero( argumento obligatorio) deseo validar si es primo o no\n",
        "def es_primo(num):\n",
        "  if num < 2:\n",
        "    return False\n",
        "  for divisor in range(2,int(num**0.5)+1):\n",
        "    if num % divisor == 0:\n",
        "      return False\n",
        "  return True"
      ],
      "metadata": {
        "id": "pEq_Ot_FBnN6"
      },
      "execution_count": null,
      "outputs": []
    },
    {
      "cell_type": "code",
      "source": [
        "# Verificacion : 524287 es primo\n",
        "es_primo(524287)"
      ],
      "metadata": {
        "colab": {
          "base_uri": "https://localhost:8080/"
        },
        "id": "QKdX5dmaCFMI",
        "outputId": "6be60f8f-8ef9-4eab-93b7-b8d64bcebb31"
      },
      "execution_count": null,
      "outputs": [
        {
          "output_type": "execute_result",
          "data": {
            "text/plain": [
              "True"
            ]
          },
          "metadata": {},
          "execution_count": 26
        }
      ]
    },
    {
      "cell_type": "code",
      "source": [
        "# Funciones que consideren argumentos opcionales\n",
        "def encriptar(texto, reemplazar_vocales = True):\n",
        "  if reemplazar_vocales:\n",
        "    texto = texto.replace(\"a\", \"4\")\n",
        "    texto = texto.replace(\"e\", \"2\")\n",
        "    texto = texto.replace(\"i\", \"1\")\n",
        "    texto = texto.replace(\"o\", \"0\")\n",
        "    texto = texto.replace(\"u\", \"\")\n",
        "  return texto\n"
      ],
      "metadata": {
        "id": "chbKQ7MiCty4"
      },
      "execution_count": null,
      "outputs": []
    },
    {
      "cell_type": "code",
      "source": [
        "parrafo = \"En un lugar de la Mancha, de cuyo nombre no quiero acordarme\""
      ],
      "metadata": {
        "id": "_KDMjm0-Dqi1"
      },
      "execution_count": null,
      "outputs": []
    },
    {
      "cell_type": "code",
      "source": [
        "encriptar(parrafo)"
      ],
      "metadata": {
        "colab": {
          "base_uri": "https://localhost:8080/",
          "height": 35
        },
        "id": "ytxdAt48DfCZ",
        "outputId": "88a01000-5158-40c5-cb03-81b1c824d7dd"
      },
      "execution_count": null,
      "outputs": [
        {
          "output_type": "execute_result",
          "data": {
            "text/plain": [
              "'En n lg4r d2 l4 M4nch4, d2 cy0 n0mbr2 n0 q12r0 4c0rd4rm2'"
            ],
            "application/vnd.google.colaboratory.intrinsic+json": {
              "type": "string"
            }
          },
          "metadata": {},
          "execution_count": 32
        }
      ]
    },
    {
      "cell_type": "code",
      "source": [
        "encriptar(parrafo, False)"
      ],
      "metadata": {
        "colab": {
          "base_uri": "https://localhost:8080/",
          "height": 35
        },
        "id": "9Hd91y_wDxFc",
        "outputId": "594e5e7a-082f-4e89-fa1d-dc7c444ffbeb"
      },
      "execution_count": null,
      "outputs": [
        {
          "output_type": "execute_result",
          "data": {
            "text/plain": [
              "'En un lugar de la Mancha, de cuyo nombre no quiero acordarme'"
            ],
            "application/vnd.google.colaboratory.intrinsic+json": {
              "type": "string"
            }
          },
          "metadata": {},
          "execution_count": 33
        }
      ]
    },
    {
      "cell_type": "code",
      "source": [
        "#Consideremos el siguiente ejemplo\n",
        "def suma(a,b):\n",
        "  return a+b\n",
        "\n",
        "suma(2,3,5)"
      ],
      "metadata": {
        "colab": {
          "base_uri": "https://localhost:8080/",
          "height": 176
        },
        "id": "Gxaw-givEBwK",
        "outputId": "d0c5da1d-c49e-4850-8071-2ce3149a7510"
      },
      "execution_count": null,
      "outputs": [
        {
          "output_type": "error",
          "ename": "TypeError",
          "evalue": "suma() takes 2 positional arguments but 3 were given",
          "traceback": [
            "\u001b[0;31m---------------------------------------------------------------------------\u001b[0m",
            "\u001b[0;31mTypeError\u001b[0m                                 Traceback (most recent call last)",
            "\u001b[0;32m/tmp/ipython-input-670455647.py\u001b[0m in \u001b[0;36m<cell line: 0>\u001b[0;34m()\u001b[0m\n\u001b[1;32m      3\u001b[0m   \u001b[0;32mreturn\u001b[0m \u001b[0ma\u001b[0m\u001b[0;34m+\u001b[0m\u001b[0mb\u001b[0m\u001b[0;34m\u001b[0m\u001b[0;34m\u001b[0m\u001b[0m\n\u001b[1;32m      4\u001b[0m \u001b[0;34m\u001b[0m\u001b[0m\n\u001b[0;32m----> 5\u001b[0;31m \u001b[0msuma\u001b[0m\u001b[0;34m(\u001b[0m\u001b[0;36m2\u001b[0m\u001b[0;34m,\u001b[0m\u001b[0;36m3\u001b[0m\u001b[0;34m,\u001b[0m\u001b[0;36m5\u001b[0m\u001b[0;34m)\u001b[0m\u001b[0;34m\u001b[0m\u001b[0;34m\u001b[0m\u001b[0m\n\u001b[0m",
            "\u001b[0;31mTypeError\u001b[0m: suma() takes 2 positional arguments but 3 were given"
          ]
        }
      ]
    },
    {
      "cell_type": "code",
      "source": [
        "def suma_l(lista_numeros):\n",
        "  suma = 0\n",
        "  for e in lista_numeros:\n",
        "    suma = suma +e\n",
        "  return suma\n",
        "\n",
        "s1 = suma_l([1,2,3,4,5,6,7,8,9,10])\n",
        "s2 = suma_l([10,20,30,40,50,60,70,80,90,100])\n",
        "s3 = suma_l([100,200,300,400,500,600,700,800,900,1000])\n"
      ],
      "metadata": {
        "id": "qWAh5EIcEKtR"
      },
      "execution_count": null,
      "outputs": []
    },
    {
      "cell_type": "code",
      "source": [
        "s3"
      ],
      "metadata": {
        "colab": {
          "base_uri": "https://localhost:8080/"
        },
        "id": "NKTDFp_bElQY",
        "outputId": "e82ae033-9cbd-40eb-eb60-15b5790591ef"
      },
      "execution_count": null,
      "outputs": [
        {
          "output_type": "execute_result",
          "data": {
            "text/plain": [
              "5500"
            ]
          },
          "metadata": {},
          "execution_count": 37
        }
      ]
    },
    {
      "cell_type": "code",
      "source": [
        "# *args : Implementar una funcion que acepte cualquioe numero dfe argumentos\n",
        "def suma_X(*args):\n",
        "  # Consideracion: *args empaqueta los argumentos en un objeto de tipo lista\n",
        "  return sum(args)"
      ],
      "metadata": {
        "id": "vZNDiHNjKKmg"
      },
      "execution_count": null,
      "outputs": []
    },
    {
      "cell_type": "code",
      "source": [
        "x1 = suma_X(12,2)\n",
        "x2 = suma_X(1,2,3,4,5,6,7,8,9,10)\n",
        "x3 = suma_X(100,200,300,400,500,600,700,800,900,1000)"
      ],
      "metadata": {
        "id": "CcMvMnZwKdWK"
      },
      "execution_count": null,
      "outputs": []
    },
    {
      "cell_type": "code",
      "source": [
        "x3"
      ],
      "metadata": {
        "colab": {
          "base_uri": "https://localhost:8080/"
        },
        "id": "8z_-FEaaKk6M",
        "outputId": "051db35a-8672-45f5-cc84-17da418826b2"
      },
      "execution_count": null,
      "outputs": [
        {
          "output_type": "execute_result",
          "data": {
            "text/plain": [
              "5500"
            ]
          },
          "metadata": {},
          "execution_count": 40
        }
      ]
    },
    {
      "cell_type": "code",
      "source": [
        "def area_poligono(*lados):\n",
        "  if len(lados) == 3:\n",
        "    base, altura = lados[0], lados[1]\n",
        "    return base * altura / 2\n",
        "  elif len(lados) == 4:\n",
        "    lado1, lado2, lado3, lado4 = lados[0], lados[1], lados[2], lados[3]\n",
        "    return lado1 * lado2\n",
        "  else:\n",
        "    return \"No es un poligono\""
      ],
      "metadata": {
        "id": "6hPBn8z0Kl1p"
      },
      "execution_count": null,
      "outputs": []
    },
    {
      "cell_type": "code",
      "source": [
        "area_poligono(3,4,5)"
      ],
      "metadata": {
        "colab": {
          "base_uri": "https://localhost:8080/"
        },
        "id": "CvOENlXENeJb",
        "outputId": "8dc0b68b-a9f7-479b-f7fb-9881651b6235"
      },
      "execution_count": null,
      "outputs": [
        {
          "output_type": "execute_result",
          "data": {
            "text/plain": [
              "6.0"
            ]
          },
          "metadata": {},
          "execution_count": 42
        }
      ]
    },
    {
      "cell_type": "code",
      "source": [
        "area_poligono(12,12)"
      ],
      "metadata": {
        "colab": {
          "base_uri": "https://localhost:8080/",
          "height": 35
        },
        "id": "dX9-T8RJN58v",
        "outputId": "45e6db93-d9a5-41dc-c1ff-f5813c4f6fd2"
      },
      "execution_count": null,
      "outputs": [
        {
          "output_type": "execute_result",
          "data": {
            "text/plain": [
              "'No es un poligono'"
            ],
            "application/vnd.google.colaboratory.intrinsic+json": {
              "type": "string"
            }
          },
          "metadata": {},
          "execution_count": 43
        }
      ]
    },
    {
      "cell_type": "markdown",
      "source": [
        "# Conclusion\n",
        "\n",
        "* Funciones sin parametros : Utiles para tereas predefinidass\n",
        "* Funcion con parametros : SOn funciones que permiten las personalziacion de comportamiento\n",
        "* Funciones que utilizan *args (tuple) y **kwargs (dict)"
      ],
      "metadata": {
        "id": "UJt7UcahO_98"
      }
    }
  ]
}