{
  "nbformat": 4,
  "nbformat_minor": 0,
  "metadata": {
    "colab": {
      "provenance": [],
      "authorship_tag": "ABX9TyP6F2xGIbDH5pYi7xmbqPW3",
      "include_colab_link": true
    },
    "kernelspec": {
      "name": "python3",
      "display_name": "Python 3"
    },
    "language_info": {
      "name": "python"
    }
  },
  "cells": [
    {
      "cell_type": "markdown",
      "metadata": {
        "id": "view-in-github",
        "colab_type": "text"
      },
      "source": [
        "<a href=\"https://colab.research.google.com/github/rjtarazonas97/PITUNI_348_python_basico/blob/main/Script07.ipynb\" target=\"_parent\"><img src=\"https://colab.research.google.com/assets/colab-badge.svg\" alt=\"Open In Colab\"/></a>"
      ]
    },
    {
      "cell_type": "markdown",
      "source": [
        "#Estructura de repeticion while"
      ],
      "metadata": {
        "id": "LGktRkVGxoDp"
      }
    },
    {
      "cell_type": "code",
      "execution_count": null,
      "metadata": {
        "id": "mJD9FqEXxgWE"
      },
      "outputs": [],
      "source": [
        "# # Sintaxis\n",
        "# while condicion:\n",
        "#   Bloque de codigo a repetir\n",
        "#   debe tener incluida a logica para modificar esa condicion"
      ]
    },
    {
      "cell_type": "code",
      "source": [
        "# Ejemplito : Calculo del epsilon de la maquina\n",
        "# es ser el menor numero positivo que, sumado a 1, produce un resultado mayor que\n",
        "# 1 en aritmetica puunto flotante\n",
        "\n",
        "# Necesitamos considerar un punto de partida (un valor inicial / un x0) para proceder con los calculos a realziar\n",
        "epsilon = 1.0\n",
        "\n",
        "# La condicion a evaluar : epsilon +1.0 y luego voy actualizar el valor de epsilon por epsilon/2\n",
        "while 1.0 + epsilon > 1.0:\n",
        "  epsilon = epsilon/2.0\n",
        "\n",
        "# Observamos lo siguiente : El valor que vamos a considerar para epsilon va a ser el doble\n",
        "# del ultimo epsilon que calculo nuestra estructura ehile\n",
        "epsilon*2"
      ],
      "metadata": {
        "colab": {
          "base_uri": "https://localhost:8080/"
        },
        "id": "XOSiS7aiywX6",
        "outputId": "cac2ebb7-5054-4897-ae53-1bb9244c552b"
      },
      "execution_count": null,
      "outputs": [
        {
          "output_type": "execute_result",
          "data": {
            "text/plain": [
              "2.220446049250313e-16"
            ]
          },
          "metadata": {},
          "execution_count": 1
        }
      ]
    },
    {
      "cell_type": "code",
      "source": [
        "# Modifiquemos el codigo anterior para levar cuent del numero de veces que\n",
        "# se realiza la tarea repetitiva\n",
        "\n",
        "# nume_inter vamos a almacenar el numero de veces que la condicion que evalua ehile\n",
        "# tiene valor booleano de true\n",
        "nume_inter = 0\n",
        "\n",
        "epsilon = 1.0\n",
        "while 1.0 + epsilon > 1.0:\n",
        "  nume_inter = nume_inter + 1\n",
        "  epsilon = epsilon/2.0\n",
        "  epsilon*2\n",
        "\n",
        "#Mostremos resultados\n",
        "print(\"\"\"\n",
        "Numero de interacciones : %d\n",
        "epsilon : %.20f\n",
        "\"\"\"%(nume_inter,epsilon*2))\n",
        "\n",
        "#Mostremos el valor de 2*epsilon usando notacion cientifica\n",
        "print(\"epsilon(Notacion cientifica) %.2e\" %(2*epsilon))"
      ],
      "metadata": {
        "colab": {
          "base_uri": "https://localhost:8080/"
        },
        "id": "AwkDuSuX0MJv",
        "outputId": "6d8857b4-24c3-4d3f-acc3-0c8675822ad7"
      },
      "execution_count": null,
      "outputs": [
        {
          "output_type": "stream",
          "name": "stdout",
          "text": [
            " \n",
            "Numero de interacciones : 53\n",
            "epsilon : 0.00000000000000022204\n",
            "\n",
            "epsilon(Notacion cientifica) 2.22e-16\n"
          ]
        }
      ]
    },
    {
      "cell_type": "code",
      "source": [
        "# Ejemplito\n",
        "# Pidamos al usuario una serie de numero hasta que el usuario ingrese a un numero menor a cero\n",
        "# Devolvemos commo resultado la suma de los numero mayores iguales a cero que ingreso el usuario\n",
        "\n",
        "#Definamos una variable donde acumularemos la suma de numero mayores o iguales a cero\n",
        "suma_total = 0\n",
        "\n",
        "#Pidamos al usuario un primer numero\n",
        "numero = float(input(\"Ingrese un numero : \"))\n",
        "\n",
        "#Bucle while : Condicion numero >= 0 (De esta manera podemos repetir la tarea de acumular y pedir nuevamente la variable numero)\n",
        "while numero >= 0 :\n",
        "  suma_total = suma_total + numero\n",
        "  numero = float(input(\"Ingrese un numero : \"))\n",
        "\n",
        "#Mostramos la suma de numero que cumplan la condicion\n",
        "print(\"suma: %.3f\" %(suma_total))"
      ],
      "metadata": {
        "colab": {
          "base_uri": "https://localhost:8080/"
        },
        "id": "lbN2AFeu17Mc",
        "outputId": "b1a1fccf-6900-4f60-a3f7-629af483bed6"
      },
      "execution_count": null,
      "outputs": [
        {
          "output_type": "stream",
          "name": "stdout",
          "text": [
            "Ingrese un numero : 12\n",
            "Ingrese un numero : 12.3\n",
            "Ingrese un numero : 13.6\n",
            "Ingrese un numero : 9\n",
            "Ingrese un numero : -8\n",
            "suma: 46.900\n"
          ]
        }
      ]
    },
    {
      "cell_type": "code",
      "source": [
        "# Actualizacion: A la implementacion anterior agrupemosle un par de calculos\n",
        "# Contar el numero de valore maayores o iguales a cero ingreesado por el usuario\n",
        "# Mostrar los valores ingresados\n",
        "\n",
        "#Definamos una variable donde acumularemos la suma de numero mayores o iguales a cero\n",
        "suma_total = 0\n",
        "\n",
        "#Pidamos al usuario un primer numero\n",
        "numero = float(input(\"Ingrese un numero : \"))\n",
        "\n",
        "#Variable para almacenar valores mayores o iguales a cero\n",
        "num_pos = 0\n",
        "\n",
        "#Crear un str en blanco para almacenar los valores mayores o iguales a cero\n",
        "str_pos = \"\"\n",
        "\n",
        "#Bucle while : Condicion numero >= 0 (De esta manera podemos repetir la tarea de acumular y pedir nuevamente la variable numero)\n",
        "while numero >= 0 :\n",
        "  #Almacenemos el numero de valores mayores o iguales a cero\n",
        "  num_pos = num_pos + 1\n",
        "  #Almacenar los numeor mayores o iguales a cero ingresado por el usuario\n",
        "  str_pos = str_pos + str(numero)\n",
        "  suma_total = suma_total + numero\n",
        "  numero = float(input(\"Ingrese un numero : \"))\n",
        "\n",
        "#Mostramos la suma de numero que cumplan la condicion\n",
        "print(\"suma: %.3f\" %(suma_total))\n",
        "\n",
        "#Mostremos la cantidad de numero mayores o iguales a cero\n",
        "#Mostremos la lista de numero mayores o iguales a cero\n",
        "print(\"cantidad : %d\" %(num_pos))\n",
        "print(\"lista de numero : %s\" %(str_pos))"
      ],
      "metadata": {
        "colab": {
          "base_uri": "https://localhost:8080/"
        },
        "id": "KAV1KlOyDRIh",
        "outputId": "3bdbf566-baff-49d7-816d-5537e27d3893"
      },
      "execution_count": null,
      "outputs": [
        {
          "output_type": "stream",
          "name": "stdout",
          "text": [
            "Ingrese un numero : 12\n",
            "Ingrese un numero : 13\n",
            "Ingrese un numero : 0.00005\n",
            "Ingrese un numero : 95123\n",
            "Ingrese un numero : -2\n",
            "suma: 95148.000\n",
            "cantidad : 4\n",
            "lista de numero : 12.013.05e-0595123.0\n"
          ]
        }
      ]
    },
    {
      "cell_type": "markdown",
      "source": [
        "#Sentencia Break\n",
        "Permite salir inmeditamente de una estructra repetitiva. Los principales escenarios donde podemos usar break son:\n",
        "* Manipulacion de condiciones especiales de salida\n",
        "* Interrumpir buvles cuando se cumple un criterio especifico\n",
        "* Evitar bucles infinitos accidentales"
      ],
      "metadata": {
        "id": "Adgnn0N3GDuX"
      }
    },
    {
      "cell_type": "code",
      "source": [
        "# Forzar un bucle infinito\n",
        "\n",
        "contador = 0\n",
        "while True:\n",
        "  #Cualquier operacion de naturaleza cuantitaiva o cualitativa\n",
        "  contador = contador +1\n",
        "  if contador >10**4:\n",
        "    print(\"contador %d\" %(contador))\n",
        "    print(\"Se llego al limite de operaciones \")\n",
        "    break"
      ],
      "metadata": {
        "colab": {
          "base_uri": "https://localhost:8080/"
        },
        "id": "kyIfVYNDFtzy",
        "outputId": "09afc1a7-f58c-40f2-c2a9-dbc7ec0f4db7"
      },
      "execution_count": null,
      "outputs": [
        {
          "output_type": "stream",
          "name": "stdout",
          "text": [
            "contador 10001\n",
            "Se llego al limite de operaciones \n"
          ]
        }
      ]
    },
    {
      "cell_type": "code",
      "source": [
        "from typing import Tuple\n",
        "# Ejemplito logremos obtener la lista de numeros primos en un intervalo [a,b]\n",
        "# Donde a y b son numeros enteros proveidos por el usuario\n",
        "\n",
        "a =int(input(\"Ingresa el limite inferior (a): \"))\n",
        "b = int(input(\"Ingresa el limite superior (b) : \"))\n",
        "\n",
        "# Debatible: Consideremos que el menor valor que pueda tomar el limite\n",
        "# inferior (a) sea 2\n",
        "if a<2:\n",
        "  a = 2\n",
        "\n",
        "# Bucle Principal : Validemos la condicion para que a sea menor o igual a b while a<=b:\n",
        "while a<=b:\n",
        "  es_primo = Tuple\n",
        "  divisor = 2\n",
        "\n",
        "#Verifiquemos si a es primo\n",
        "while divisor * divisor <= a:\n",
        "   if a % divisor == 0:\n",
        "     es_primo = False\n",
        "     break\n",
        "   divisor = divisor + 1\n",
        "if es_primo:\n",
        "   print(\"%d\"%(a))\n",
        "a = a + 1"
      ],
      "metadata": {
        "colab": {
          "base_uri": "https://localhost:8080/",
          "height": 245
        },
        "id": "EqiyoFsRLYyI",
        "outputId": "57753e69-c2bc-40f5-e93b-41a602ed405f"
      },
      "execution_count": null,
      "outputs": [
        {
          "name": "stdout",
          "output_type": "stream",
          "text": [
            "Ingresa el limite inferior (a): 12\n",
            "Ingresa el limite superior (b) : 13\n"
          ]
        },
        {
          "output_type": "error",
          "ename": "KeyboardInterrupt",
          "evalue": "",
          "traceback": [
            "\u001b[0;31m---------------------------------------------------------------------------\u001b[0m",
            "\u001b[0;31mKeyboardInterrupt\u001b[0m                         Traceback (most recent call last)",
            "\u001b[0;32m/tmp/ipython-input-1842292768.py\u001b[0m in \u001b[0;36m<cell line: 0>\u001b[0;34m()\u001b[0m\n\u001b[1;32m     12\u001b[0m \u001b[0;34m\u001b[0m\u001b[0m\n\u001b[1;32m     13\u001b[0m \u001b[0;31m# Bucle Principal : Validemos la condicion para que a sea menor o igual a b while a<=b:\u001b[0m\u001b[0;34m\u001b[0m\u001b[0;34m\u001b[0m\u001b[0m\n\u001b[0;32m---> 14\u001b[0;31m \u001b[0;32mwhile\u001b[0m \u001b[0ma\u001b[0m\u001b[0;34m<=\u001b[0m\u001b[0mb\u001b[0m\u001b[0;34m:\u001b[0m\u001b[0;34m\u001b[0m\u001b[0;34m\u001b[0m\u001b[0m\n\u001b[0m\u001b[1;32m     15\u001b[0m   \u001b[0mes_primo\u001b[0m \u001b[0;34m=\u001b[0m \u001b[0mTuple\u001b[0m\u001b[0;34m\u001b[0m\u001b[0;34m\u001b[0m\u001b[0m\n\u001b[1;32m     16\u001b[0m   \u001b[0mdivisor\u001b[0m \u001b[0;34m=\u001b[0m \u001b[0;36m2\u001b[0m\u001b[0;34m\u001b[0m\u001b[0;34m\u001b[0m\u001b[0m\n",
            "\u001b[0;31mKeyboardInterrupt\u001b[0m: "
          ]
        }
      ]
    },
    {
      "cell_type": "markdown",
      "source": [
        "#LA  sentencia continue\n",
        "Su principal funcion es omitir el resto de la iteracion actual y apsar\n",
        "inmeditamente a la siguiente iteracion del bucle, sin terminar completamente el bucle\n",
        "* Interrumpe solo la iteracion actual\n",
        "* Util para filtrar elementos\n",
        "* Optimizacion de codigo\n"
      ],
      "metadata": {
        "id": "51A75tu5iHcU"
      }
    },
    {
      "cell_type": "code",
      "source": [
        "#PARa los numero de 1 al 30 filtrar los dividsible por 3 o 5\n",
        "# USemos una estructura repetitiva while\n",
        "num = 1\n",
        "while num <= 30:\n",
        "  if(num%3 == 0) or (num%5 == 0):\n",
        "    num = num + 1\n",
        "    continue\n",
        "\n",
        "  print(num)\n",
        "  # Actualiza num\n",
        "  num = num + 1"
      ],
      "metadata": {
        "colab": {
          "base_uri": "https://localhost:8080/"
        },
        "id": "lNwzby5WibET",
        "outputId": "d33e8ccd-ed40-4020-847b-2c4d003596f3"
      },
      "execution_count": null,
      "outputs": [
        {
          "output_type": "stream",
          "name": "stdout",
          "text": [
            "1\n",
            "2\n",
            "4\n",
            "7\n",
            "8\n",
            "11\n",
            "13\n",
            "14\n",
            "16\n",
            "17\n",
            "19\n",
            "22\n",
            "23\n",
            "26\n",
            "28\n",
            "29\n"
          ]
        }
      ]
    },
    {
      "cell_type": "markdown",
      "source": [
        "# Las variables de tipo lista\n"
      ],
      "metadata": {
        "id": "5rgUJIatIXSv"
      }
    },
    {
      "cell_type": "code",
      "source": [
        "#definicion : USamos corhcetes\n",
        "var_lista1 = []\n",
        "var_lista2 = [12,23,34,45,56,0]\n",
        "var_lista3 = [\"True\",False,9,2.14159,12+3j,\"Ultimo termino\"]\n",
        "\n",
        "\n"
      ],
      "metadata": {
        "id": "leGpeK7bQ4-a"
      },
      "execution_count": null,
      "outputs": []
    },
    {
      "cell_type": "code",
      "source": [
        "#Tipo de dato\n",
        "type(var_lista3)"
      ],
      "metadata": {
        "colab": {
          "base_uri": "https://localhost:8080/"
        },
        "id": "qhk53XeURTZL",
        "outputId": "ba6a50a0-9d6e-4791-faf1-da6fa9d62d43"
      },
      "execution_count": null,
      "outputs": [
        {
          "output_type": "execute_result",
          "data": {
            "text/plain": [
              "list"
            ]
          },
          "metadata": {},
          "execution_count": 3
        }
      ]
    },
    {
      "cell_type": "code",
      "source": [
        "var_lista1"
      ],
      "metadata": {
        "colab": {
          "base_uri": "https://localhost:8080/"
        },
        "id": "k09tSMmHRWs5",
        "outputId": "c842fc54-fadc-4303-92b6-22ac622b9e3f"
      },
      "execution_count": null,
      "outputs": [
        {
          "output_type": "execute_result",
          "data": {
            "text/plain": [
              "[]"
            ]
          },
          "metadata": {},
          "execution_count": 5
        }
      ]
    },
    {
      "cell_type": "code",
      "source": [
        "var_lista2"
      ],
      "metadata": {
        "colab": {
          "base_uri": "https://localhost:8080/"
        },
        "id": "URtfJAewRigT",
        "outputId": "4ed5539b-9795-4f76-a081-cba8b1aa1418"
      },
      "execution_count": null,
      "outputs": [
        {
          "output_type": "execute_result",
          "data": {
            "text/plain": [
              "[12, 23, 34, 45, 56, 0]"
            ]
          },
          "metadata": {},
          "execution_count": 6
        }
      ]
    },
    {
      "cell_type": "code",
      "source": [
        "var_lista3"
      ],
      "metadata": {
        "colab": {
          "base_uri": "https://localhost:8080/"
        },
        "id": "PzsRBP0ARkSt",
        "outputId": "0e95771b-e5c6-47fa-f3d7-db1a2cab641e"
      },
      "execution_count": null,
      "outputs": [
        {
          "output_type": "execute_result",
          "data": {
            "text/plain": [
              "['True', False, 9, 2.14159, (12+3j), 'Ultimo termino']"
            ]
          },
          "metadata": {},
          "execution_count": 7
        }
      ]
    },
    {
      "cell_type": "code",
      "source": [
        "var_lista4 = [var_lista1,var_lista2,var_lista3]\n",
        "var_lista4"
      ],
      "metadata": {
        "colab": {
          "base_uri": "https://localhost:8080/"
        },
        "id": "FeWb7ok7Rlzr",
        "outputId": "c597e016-abdf-432f-e3d6-4d905642a0e3"
      },
      "execution_count": null,
      "outputs": [
        {
          "output_type": "execute_result",
          "data": {
            "text/plain": [
              "[[],\n",
              " [12, 23, 34, 45, 56, 0],\n",
              " ['True', False, 9, 2.14159, (12+3j), 'Ultimo termino']]"
            ]
          },
          "metadata": {},
          "execution_count": 8
        }
      ]
    },
    {
      "cell_type": "code",
      "source": [
        "# Podemos acceder a los elementos de datos de tipo list a traves de sus indices"
      ],
      "metadata": {
        "id": "0AZJ9xjoSELH"
      },
      "execution_count": null,
      "outputs": []
    },
    {
      "cell_type": "code",
      "source": [
        "# accedemos al primer elemento de var_list2\n",
        "var_lista2[0]"
      ],
      "metadata": {
        "colab": {
          "base_uri": "https://localhost:8080/"
        },
        "id": "-48SBSwWuV6M",
        "outputId": "3f33b3c0-950d-4559-ba67-0388b693cb18"
      },
      "execution_count": null,
      "outputs": [
        {
          "output_type": "execute_result",
          "data": {
            "text/plain": [
              "12"
            ]
          },
          "metadata": {},
          "execution_count": 11
        }
      ]
    },
    {
      "cell_type": "code",
      "source": [
        "#accedemops al ultimo elemtno de var_list4\n",
        "var_lista4[-1]"
      ],
      "metadata": {
        "colab": {
          "base_uri": "https://localhost:8080/"
        },
        "id": "V4X8voE4ufTR",
        "outputId": "1323884f-4776-4f80-882c-e448ac9850eb"
      },
      "execution_count": null,
      "outputs": [
        {
          "output_type": "execute_result",
          "data": {
            "text/plain": [
              "['True', False, 9, 2.14159, (12+3j), 'Ultimo termino']"
            ]
          },
          "metadata": {},
          "execution_count": 13
        }
      ]
    },
    {
      "cell_type": "code",
      "source": [
        "# Accedemos al primer elemnto del ultimo elemtno de var_list4\n",
        "var_lista4[-1][0]"
      ],
      "metadata": {
        "colab": {
          "base_uri": "https://localhost:8080/",
          "height": 35
        },
        "id": "GQKK3pQmurx3",
        "outputId": "2932e88d-ba75-4e76-a697-3550b2fdf0b4"
      },
      "execution_count": null,
      "outputs": [
        {
          "output_type": "execute_result",
          "data": {
            "text/plain": [
              "'True'"
            ],
            "application/vnd.google.colaboratory.intrinsic+json": {
              "type": "string"
            }
          },
          "metadata": {},
          "execution_count": 14
        }
      ]
    },
    {
      "cell_type": "code",
      "source": [
        "# Podemos acceder al ultimo elemtno del primer elemnto de var_lis4\n",
        "var_lista4[0][-1]"
      ],
      "metadata": {
        "colab": {
          "base_uri": "https://localhost:8080/",
          "height": 159
        },
        "id": "nuYP66qmu1U0",
        "outputId": "4d10eaf2-5661-48eb-acae-34b9d9fdf6f4"
      },
      "execution_count": null,
      "outputs": [
        {
          "output_type": "error",
          "ename": "IndexError",
          "evalue": "list index out of range",
          "traceback": [
            "\u001b[0;31m---------------------------------------------------------------------------\u001b[0m",
            "\u001b[0;31mIndexError\u001b[0m                                Traceback (most recent call last)",
            "\u001b[0;32m/tmp/ipython-input-3359894172.py\u001b[0m in \u001b[0;36m<cell line: 0>\u001b[0;34m()\u001b[0m\n\u001b[1;32m      1\u001b[0m \u001b[0;31m# Podemos acceder al ultimo elemtno del primer elemnto de var_lis4\u001b[0m\u001b[0;34m\u001b[0m\u001b[0;34m\u001b[0m\u001b[0m\n\u001b[0;32m----> 2\u001b[0;31m \u001b[0mvar_lista4\u001b[0m\u001b[0;34m[\u001b[0m\u001b[0;36m0\u001b[0m\u001b[0;34m]\u001b[0m\u001b[0;34m[\u001b[0m\u001b[0;34m-\u001b[0m\u001b[0;36m1\u001b[0m\u001b[0;34m]\u001b[0m\u001b[0;34m\u001b[0m\u001b[0;34m\u001b[0m\u001b[0m\n\u001b[0m",
            "\u001b[0;31mIndexError\u001b[0m: list index out of range"
          ]
        }
      ]
    },
    {
      "cell_type": "code",
      "source": [
        "# Los datos de tipo lista en python son datos/objetos que se opueden modificar (mutables)\n",
        "var_lista4[0][-1] = 2**(0.5)\n",
        "var_lista4[0][0]"
      ],
      "metadata": {
        "colab": {
          "base_uri": "https://localhost:8080/",
          "height": 176
        },
        "id": "z9E3hzIgu-Ju",
        "outputId": "2085fa68-3eba-48a4-884d-0077ba314be5"
      },
      "execution_count": null,
      "outputs": [
        {
          "output_type": "error",
          "ename": "IndexError",
          "evalue": "list assignment index out of range",
          "traceback": [
            "\u001b[0;31m---------------------------------------------------------------------------\u001b[0m",
            "\u001b[0;31mIndexError\u001b[0m                                Traceback (most recent call last)",
            "\u001b[0;32m/tmp/ipython-input-2609617442.py\u001b[0m in \u001b[0;36m<cell line: 0>\u001b[0;34m()\u001b[0m\n\u001b[1;32m      1\u001b[0m \u001b[0;31m# Los datos de tipo lista en python son datos/objetos que se opueden modificar (mutables)\u001b[0m\u001b[0;34m\u001b[0m\u001b[0;34m\u001b[0m\u001b[0m\n\u001b[0;32m----> 2\u001b[0;31m \u001b[0mvar_lista4\u001b[0m\u001b[0;34m[\u001b[0m\u001b[0;36m0\u001b[0m\u001b[0;34m]\u001b[0m\u001b[0;34m[\u001b[0m\u001b[0;34m-\u001b[0m\u001b[0;36m1\u001b[0m\u001b[0;34m]\u001b[0m \u001b[0;34m=\u001b[0m \u001b[0;36m2\u001b[0m\u001b[0;34m**\u001b[0m\u001b[0;34m(\u001b[0m\u001b[0;36m0.5\u001b[0m\u001b[0;34m)\u001b[0m\u001b[0;34m\u001b[0m\u001b[0;34m\u001b[0m\u001b[0m\n\u001b[0m\u001b[1;32m      3\u001b[0m \u001b[0mvar_lista4\u001b[0m\u001b[0;34m[\u001b[0m\u001b[0;36m0\u001b[0m\u001b[0;34m]\u001b[0m\u001b[0;34m[\u001b[0m\u001b[0;36m0\u001b[0m\u001b[0;34m]\u001b[0m\u001b[0;34m\u001b[0m\u001b[0;34m\u001b[0m\u001b[0m\n",
            "\u001b[0;31mIndexError\u001b[0m: list assignment index out of range"
          ]
        }
      ]
    },
    {
      "cell_type": "code",
      "source": [
        "# Modoficamos el segundo componente de var_list2\n",
        "print(var_lista2)\n",
        "var_lista2[1] = - 120\n",
        "print(var_lista2)"
      ],
      "metadata": {
        "colab": {
          "base_uri": "https://localhost:8080/"
        },
        "id": "yqH2r4eHvlEH",
        "outputId": "c8663730-1fc2-46a4-c2f0-dcb51b0ac5be"
      },
      "execution_count": null,
      "outputs": [
        {
          "output_type": "stream",
          "name": "stdout",
          "text": [
            "[12, 23, 34, 45, 56, 0]\n",
            "[12, -120, 34, 45, 56, 0]\n"
          ]
        }
      ]
    },
    {
      "cell_type": "code",
      "source": [
        "# Tambien podemos utilizar la notacion slice"
      ],
      "metadata": {
        "id": "13o6-XHhvwFU"
      },
      "execution_count": null,
      "outputs": []
    },
    {
      "cell_type": "code",
      "source": [
        "## Accedemos alos 3 ultimos elementos de var_lis2\n",
        "var_lista2[-3:]"
      ],
      "metadata": {
        "colab": {
          "base_uri": "https://localhost:8080/"
        },
        "id": "O6Au3KLAvzmb",
        "outputId": "0c69f345-2535-4a6e-d16d-0a0a0f96dc0d"
      },
      "execution_count": null,
      "outputs": [
        {
          "output_type": "execute_result",
          "data": {
            "text/plain": [
              "[45, 56, 0]"
            ]
          },
          "metadata": {},
          "execution_count": 20
        }
      ]
    },
    {
      "cell_type": "code",
      "source": [
        "#Operaciones de concatenacion (+) y repeticion (*) con variables de tipo lista\n",
        "#Funciona de manera analoga que para variables str\n",
        "var_list5 = 2*var_lista2 + 5 * var_lista4\n",
        "var_list5"
      ],
      "metadata": {
        "colab": {
          "base_uri": "https://localhost:8080/"
        },
        "id": "94-8E0RQv6-F",
        "outputId": "3583db29-5676-4eaf-acf8-46a9cace27c5"
      },
      "execution_count": null,
      "outputs": [
        {
          "output_type": "execute_result",
          "data": {
            "text/plain": [
              "[12,\n",
              " -120,\n",
              " 34,\n",
              " 45,\n",
              " 56,\n",
              " 0,\n",
              " 12,\n",
              " -120,\n",
              " 34,\n",
              " 45,\n",
              " 56,\n",
              " 0,\n",
              " [],\n",
              " [12, -120, 34, 45, 56, 0],\n",
              " ['True', False, 9, 2.14159, (12+3j), 'Ultimo termino'],\n",
              " [],\n",
              " [12, -120, 34, 45, 56, 0],\n",
              " ['True', False, 9, 2.14159, (12+3j), 'Ultimo termino'],\n",
              " [],\n",
              " [12, -120, 34, 45, 56, 0],\n",
              " ['True', False, 9, 2.14159, (12+3j), 'Ultimo termino'],\n",
              " [],\n",
              " [12, -120, 34, 45, 56, 0],\n",
              " ['True', False, 9, 2.14159, (12+3j), 'Ultimo termino'],\n",
              " [],\n",
              " [12, -120, 34, 45, 56, 0],\n",
              " ['True', False, 9, 2.14159, (12+3j), 'Ultimo termino']]"
            ]
          },
          "metadata": {},
          "execution_count": 21
        }
      ]
    },
    {
      "cell_type": "code",
      "source": [
        "#Podmeos obtener el numero de elemtnos de una variable de tipo lista\n",
        "len(var_lista1)"
      ],
      "metadata": {
        "colab": {
          "base_uri": "https://localhost:8080/"
        },
        "id": "zP-c0pX4wZJ_",
        "outputId": "71ccf040-f837-4d0e-f3cb-52e619a72f81"
      },
      "execution_count": null,
      "outputs": [
        {
          "output_type": "execute_result",
          "data": {
            "text/plain": [
              "0"
            ]
          },
          "metadata": {},
          "execution_count": 22
        }
      ]
    },
    {
      "cell_type": "code",
      "source": [
        "len(var_list5)"
      ],
      "metadata": {
        "colab": {
          "base_uri": "https://localhost:8080/"
        },
        "id": "1iK2Bzmhwemd",
        "outputId": "ec0121d3-1679-45f5-badf-dba51935b9f0"
      },
      "execution_count": null,
      "outputs": [
        {
          "output_type": "execute_result",
          "data": {
            "text/plain": [
              "27"
            ]
          },
          "metadata": {},
          "execution_count": 23
        }
      ]
    },
    {
      "cell_type": "code",
      "source": [
        "# Para ,listas con elemtnos numericos : min, max, sum"
      ],
      "metadata": {
        "id": "3uv-qll9whA5"
      },
      "execution_count": null,
      "outputs": []
    },
    {
      "cell_type": "markdown",
      "source": [
        "# MEtodos de una variable de tipo lista"
      ],
      "metadata": {
        "id": "XhPsir7cz2q5"
      }
    },
    {
      "cell_type": "code",
      "source": [
        "# La funcion dir\n",
        "dir(var_list5)"
      ],
      "metadata": {
        "colab": {
          "base_uri": "https://localhost:8080/"
        },
        "id": "_HRuLtKqz7Z7",
        "outputId": "a6fe7dae-6241-4f8a-dfa8-c4b476373430"
      },
      "execution_count": null,
      "outputs": [
        {
          "output_type": "execute_result",
          "data": {
            "text/plain": [
              "['__add__',\n",
              " '__class__',\n",
              " '__class_getitem__',\n",
              " '__contains__',\n",
              " '__delattr__',\n",
              " '__delitem__',\n",
              " '__dir__',\n",
              " '__doc__',\n",
              " '__eq__',\n",
              " '__format__',\n",
              " '__ge__',\n",
              " '__getattribute__',\n",
              " '__getitem__',\n",
              " '__getstate__',\n",
              " '__gt__',\n",
              " '__hash__',\n",
              " '__iadd__',\n",
              " '__imul__',\n",
              " '__init__',\n",
              " '__init_subclass__',\n",
              " '__iter__',\n",
              " '__le__',\n",
              " '__len__',\n",
              " '__lt__',\n",
              " '__mul__',\n",
              " '__ne__',\n",
              " '__new__',\n",
              " '__reduce__',\n",
              " '__reduce_ex__',\n",
              " '__repr__',\n",
              " '__reversed__',\n",
              " '__rmul__',\n",
              " '__setattr__',\n",
              " '__setitem__',\n",
              " '__sizeof__',\n",
              " '__str__',\n",
              " '__subclasshook__',\n",
              " 'append',\n",
              " 'clear',\n",
              " 'copy',\n",
              " 'count',\n",
              " 'extend',\n",
              " 'index',\n",
              " 'insert',\n",
              " 'pop',\n",
              " 'remove',\n",
              " 'reverse',\n",
              " 'sort']"
            ]
          },
          "metadata": {},
          "execution_count": 58
        }
      ]
    },
    {
      "cell_type": "code",
      "source": [
        "# Lista de metodos de interes\n",
        "# 'append',\n",
        "#  'clear',\n",
        "#  'copy',\n",
        "#  'count',\n",
        "#  'extend',\n",
        "#  'index',\n",
        "#  'insert',\n",
        "#  'pop',\n",
        "#  'remove',\n",
        "#  'reverse',\n",
        "#  'sort'"
      ],
      "metadata": {
        "id": "Mwz3qHAW0HE_"
      },
      "execution_count": null,
      "outputs": []
    },
    {
      "cell_type": "code",
      "source": [
        "#Docuemntacion del metodo append\n",
        "help([].append)"
      ],
      "metadata": {
        "colab": {
          "base_uri": "https://localhost:8080/"
        },
        "id": "YRgbuRXS32uF",
        "outputId": "89426125-7e6a-4bf7-b409-b22fc8cb2db2"
      },
      "execution_count": null,
      "outputs": [
        {
          "output_type": "stream",
          "name": "stdout",
          "text": [
            "Help on built-in function append:\n",
            "\n",
            "append(object, /) method of builtins.list instance\n",
            "    Append object to the end of the list.\n",
            "\n"
          ]
        }
      ]
    },
    {
      "cell_type": "code",
      "source": [
        "var_lista1"
      ],
      "metadata": {
        "colab": {
          "base_uri": "https://localhost:8080/"
        },
        "id": "qjFCMO1n4j3u",
        "outputId": "d0a9aa12-80e4-49d0-8100-4a91df3d8392"
      },
      "execution_count": null,
      "outputs": [
        {
          "output_type": "execute_result",
          "data": {
            "text/plain": [
              "[2, 2, 2, False, 2, False]"
            ]
          },
          "metadata": {},
          "execution_count": 61
        }
      ]
    },
    {
      "cell_type": "code",
      "source": [
        "# Agreguemos el valor 2 a la lista1\n",
        "var_lista1.append(2)\n",
        "var_lista1"
      ],
      "metadata": {
        "colab": {
          "base_uri": "https://localhost:8080/"
        },
        "id": "XhJJv1O24mAm",
        "outputId": "6ef5fa37-e9da-4ff9-922c-8e08e908e1a0"
      },
      "execution_count": null,
      "outputs": [
        {
          "output_type": "execute_result",
          "data": {
            "text/plain": [
              "[2, 2, 2, False, 2, False, 2]"
            ]
          },
          "metadata": {},
          "execution_count": 62
        }
      ]
    },
    {
      "cell_type": "code",
      "source": [
        "# Agueguemos el valor false a lis1\n",
        "var_lista1.append(False)\n",
        "var_lista1"
      ],
      "metadata": {
        "colab": {
          "base_uri": "https://localhost:8080/"
        },
        "id": "y60Wq37d4t2A",
        "outputId": "e1f2be31-48d4-43af-9b4a-f12dcde3a58c"
      },
      "execution_count": null,
      "outputs": [
        {
          "output_type": "execute_result",
          "data": {
            "text/plain": [
              "[2, 2, 2, False, 2, False, 2, False]"
            ]
          },
          "metadata": {},
          "execution_count": 63
        }
      ]
    },
    {
      "cell_type": "code",
      "source": [
        "# Ejemplito a partir de uina lista vacia agregar 2055 numero aleatorios del intervalo [0,20]\n",
        "\n",
        "# En vista de  la necesidad de generar numero aleatorios: cargar el modulo random\n",
        "import random as rnd\n",
        "\n",
        "#Putno de partida: crear u na lista vacia\n",
        "notas_test2 = []\n",
        "\n",
        "\n",
        "# COn una estructura reptetiva y el metodo append vamos a ir agregand/actualizando los\n",
        "#elementos de notas_test2\n",
        "for i in range(2025):\n",
        "  #Generamos u numero aleatorio por las condiciones brindadas\n",
        "  num_random = rnd.randint(0,20)\n",
        "  #Almacenamos este numero generando una lista : notas_test2\n",
        "  notas_test2.append(num_random)\n",
        "\n",
        "# Mostremos el resultado\n",
        "notas_test2 [:15]"
      ],
      "metadata": {
        "colab": {
          "base_uri": "https://localhost:8080/"
        },
        "id": "ft7kTzYJ5C68",
        "outputId": "4becdf36-a3f1-47b6-efac-a963be65219a"
      },
      "execution_count": null,
      "outputs": [
        {
          "output_type": "execute_result",
          "data": {
            "text/plain": [
              "[17, 5, 20, 5, 20, 18, 12, 11, 13, 20, 8, 1, 14, 19, 6]"
            ]
          },
          "metadata": {},
          "execution_count": 64
        }
      ]
    },
    {
      "cell_type": "code",
      "source": [
        "# Recordando que una estructura for permite el acceso a los elementos de\n",
        "# una variable de naturaleza vectorial, nos invita a que podemos acceder/manipular a\n",
        "# los elementos que componen a un dato de tipo lista\n",
        "\n",
        "#almacenamiento de el numero de valores mayores o iguales a 14\n",
        "num_aprobados = 0\n",
        "\n",
        "#Ejemplito: Contemos el numero de noras mayores o iguales a 14\n",
        "for e in notas_test2:\n",
        "  if e >= 14:\n",
        "    num_aprobados = num_aprobados + 1\n",
        "\n",
        "# Mostremos el resultado\n",
        "print(\"Numero de aprobados : %d\" %(num_aprobados))"
      ],
      "metadata": {
        "colab": {
          "base_uri": "https://localhost:8080/"
        },
        "id": "S3COAqaq8CUz",
        "outputId": "25d6d227-906b-4c3f-f990-cf90525bdbd0"
      },
      "execution_count": null,
      "outputs": [
        {
          "output_type": "stream",
          "name": "stdout",
          "text": [
            "Numero de aprobados : 692\n"
          ]
        }
      ]
    },
    {
      "cell_type": "code",
      "source": [
        "# Necesito las noras de los alumnos desaprobados\n",
        "# crear una lista (inicialmente en blanco) donde vamos a lmacenar\n",
        "# a todas las notas menores a 14\n",
        "\n",
        "#Lista de desaprobados\n",
        "noras_uni = []\n",
        "\n",
        "for e in notas_test2:\n",
        "  if e < 14:\n",
        "    noras_uni.append(e)\n",
        "\n",
        "# Mostremos el resultado\n",
        "print(\"numero de desaprobados %d\" %(len(noras_uni)))\n",
        "print(\"Primeras cinco notas\", notas_uni[:5])"
      ],
      "metadata": {
        "colab": {
          "base_uri": "https://localhost:8080/"
        },
        "id": "ZBr4VuR8932L",
        "outputId": "50132060-5542-4b8d-adad-0eb49bf73e81"
      },
      "execution_count": null,
      "outputs": [
        {
          "output_type": "stream",
          "name": "stdout",
          "text": [
            "numero de desaprobados 1333\n",
            "Primeras cinco notas [17, 5, 20, 5, 20]\n"
          ]
        }
      ]
    },
    {
      "cell_type": "code",
      "source": [
        "# Promedio de los desaprobados\n",
        "MA_desaprobados = sum(noras_uni)/len(noras_uni)\n",
        "print(\"Promedio de desaprobados : %.3f\" %(MA_desaprobados))"
      ],
      "metadata": {
        "colab": {
          "base_uri": "https://localhost:8080/"
        },
        "id": "6zhIJ3OB-kY2",
        "outputId": "3b523536-d5a8-4d0d-9166-3c52c345565b"
      },
      "execution_count": null,
      "outputs": [
        {
          "output_type": "stream",
          "name": "stdout",
          "text": [
            "Promedio de desaprobados : 6.446\n"
          ]
        }
      ]
    },
    {
      "cell_type": "code",
      "source": [
        "# contemos el numero de notas iguales a 20\n",
        "\n",
        "notas20 = 0\n",
        "\n",
        "for e in notas_test2:\n",
        "  if e == 20:\n",
        "    notas20 = notas20 + 1\n",
        "\n",
        "print(\"Numero de notas 20 : %d\" %(notas20))"
      ],
      "metadata": {
        "colab": {
          "base_uri": "https://localhost:8080/"
        },
        "id": "n7uqT6t5-yZ-",
        "outputId": "ecacd1aa-a56f-4d35-a763-a1fba778b734"
      },
      "execution_count": null,
      "outputs": [
        {
          "output_type": "stream",
          "name": "stdout",
          "text": [
            "Numero de notas 20 : 123\n"
          ]
        }
      ]
    },
    {
      "cell_type": "code",
      "source": [
        "# El metodo clear\n",
        "help(var_lista1.clear)"
      ],
      "metadata": {
        "colab": {
          "base_uri": "https://localhost:8080/"
        },
        "id": "XAtE7KuJ_AUn",
        "outputId": "c9e1909d-f83d-42f3-f4d4-df96c1ddc5c9"
      },
      "execution_count": null,
      "outputs": [
        {
          "output_type": "stream",
          "name": "stdout",
          "text": [
            "Help on built-in function clear:\n",
            "\n",
            "clear() method of builtins.list instance\n",
            "    Remove all items from list.\n",
            "\n"
          ]
        }
      ]
    },
    {
      "cell_type": "code",
      "source": [
        "#valor actual de var_lista1\n",
        "var_lista1"
      ],
      "metadata": {
        "colab": {
          "base_uri": "https://localhost:8080/"
        },
        "id": "P_lx4ked_GmF",
        "outputId": "bf94c809-da3c-4b77-b215-50a43f55bd3d"
      },
      "execution_count": null,
      "outputs": [
        {
          "output_type": "execute_result",
          "data": {
            "text/plain": [
              "[2, 2, 2, False, 2, False, 2, False]"
            ]
          },
          "metadata": {},
          "execution_count": 72
        }
      ]
    },
    {
      "cell_type": "code",
      "source": [
        "#Apliquemos el metodo clear\n",
        "var_lista1.clear()\n",
        "var_lista1"
      ],
      "metadata": {
        "colab": {
          "base_uri": "https://localhost:8080/"
        },
        "id": "gqSch70c_PS4",
        "outputId": "76f4c501-e611-4ef1-a419-5a9ab3e8c830"
      },
      "execution_count": null,
      "outputs": [
        {
          "output_type": "execute_result",
          "data": {
            "text/plain": [
              "[]"
            ]
          },
          "metadata": {},
          "execution_count": 73
        }
      ]
    },
    {
      "cell_type": "code",
      "source": [
        "# Eliminar o remover la variable var_lista1 de la memoria ram\n",
        "del var_lista1"
      ],
      "metadata": {
        "colab": {
          "base_uri": "https://localhost:8080/",
          "height": 159
        },
        "id": "yM4zxnFP_cEm",
        "outputId": "fbab3720-e2e7-48a7-812e-c1d6e8072328"
      },
      "execution_count": null,
      "outputs": [
        {
          "output_type": "error",
          "ename": "NameError",
          "evalue": "name 'var_lista1' is not defined",
          "traceback": [
            "\u001b[0;31m---------------------------------------------------------------------------\u001b[0m",
            "\u001b[0;31mNameError\u001b[0m                                 Traceback (most recent call last)",
            "\u001b[0;32m/tmp/ipython-input-443167479.py\u001b[0m in \u001b[0;36m<cell line: 0>\u001b[0;34m()\u001b[0m\n\u001b[1;32m      1\u001b[0m \u001b[0;31m# Eliminar o remover la variable var_lista1 de la memoria ram\u001b[0m\u001b[0;34m\u001b[0m\u001b[0;34m\u001b[0m\u001b[0m\n\u001b[0;32m----> 2\u001b[0;31m \u001b[0;32mdel\u001b[0m \u001b[0mvar_lista1\u001b[0m\u001b[0;34m\u001b[0m\u001b[0;34m\u001b[0m\u001b[0m\n\u001b[0m",
            "\u001b[0;31mNameError\u001b[0m: name 'var_lista1' is not defined"
          ]
        }
      ]
    },
    {
      "cell_type": "code",
      "source": [
        "var_lista1"
      ],
      "metadata": {
        "colab": {
          "base_uri": "https://localhost:8080/",
          "height": 141
        },
        "id": "mreFbAyJ_okD",
        "outputId": "f07bbc6f-30f3-468d-ab5f-969c09390826"
      },
      "execution_count": null,
      "outputs": [
        {
          "output_type": "error",
          "ename": "NameError",
          "evalue": "name 'var_lista1' is not defined",
          "traceback": [
            "\u001b[0;31m---------------------------------------------------------------------------\u001b[0m",
            "\u001b[0;31mNameError\u001b[0m                                 Traceback (most recent call last)",
            "\u001b[0;32m/tmp/ipython-input-2595356837.py\u001b[0m in \u001b[0;36m<cell line: 0>\u001b[0;34m()\u001b[0m\n\u001b[0;32m----> 1\u001b[0;31m \u001b[0mvar_lista1\u001b[0m\u001b[0;34m\u001b[0m\u001b[0;34m\u001b[0m\u001b[0m\n\u001b[0m",
            "\u001b[0;31mNameError\u001b[0m: name 'var_lista1' is not defined"
          ]
        }
      ]
    },
    {
      "cell_type": "code",
      "source": [
        "#Docuemntacion del emtodo copy\n",
        "help([].copy)"
      ],
      "metadata": {
        "colab": {
          "base_uri": "https://localhost:8080/"
        },
        "id": "xs6H_1Dl_zEG",
        "outputId": "3ee9e4a4-5fca-4572-c23d-1318384bd66e"
      },
      "execution_count": null,
      "outputs": [
        {
          "output_type": "stream",
          "name": "stdout",
          "text": [
            "Help on built-in function copy:\n",
            "\n",
            "copy() method of builtins.list instance\n",
            "    Return a shallow copy of the list.\n",
            "\n"
          ]
        }
      ]
    },
    {
      "cell_type": "code",
      "source": [
        "# consideremos a los valores inciales de var_lista2\n",
        "var_lista2"
      ],
      "metadata": {
        "colab": {
          "base_uri": "https://localhost:8080/"
        },
        "id": "FrmzKYIwA0vP",
        "outputId": "ed3b1926-f970-4208-e225-99823fb386f7"
      },
      "execution_count": null,
      "outputs": [
        {
          "output_type": "execute_result",
          "data": {
            "text/plain": [
              "[12, -120, 34, 45, 56, 0]"
            ]
          },
          "metadata": {},
          "execution_count": 80
        }
      ]
    },
    {
      "cell_type": "code",
      "source": [
        "#Buscamos crear una copia de var_lista2 para poder modificar/editar su segunda componente\n",
        "# y asignar el valor de 3.1415\n",
        "\n",
        "copia_var_lista2 = var_lista2\n",
        "copia_var_lista2[1] = 3.1415\n",
        "\n",
        "print(\"var_lista2 : \",var_lista2)\n",
        "print(\"copia_var_lista2 : \",copia_var_lista2)"
      ],
      "metadata": {
        "colab": {
          "base_uri": "https://localhost:8080/"
        },
        "id": "EGAk50TbA5pB",
        "outputId": "8038dfa7-9fb2-42dd-ac24-a740bf930ad4"
      },
      "execution_count": null,
      "outputs": [
        {
          "output_type": "stream",
          "name": "stdout",
          "text": [
            "var_lista2 :  [12, 3.1415, 34, 45, 56, 0]\n",
            "copia_var_lista2 :  [12, 3.1415, 34, 45, 56, 0]\n"
          ]
        }
      ]
    },
    {
      "cell_type": "code",
      "source": [
        "# Esta demostracion no ensena que para crear uan copia de una variable de tipo\n",
        "# lista es mediante el metodo copy\n",
        "\n",
        "copia_real = var_lista2.copy()\n",
        "copia_real"
      ],
      "metadata": {
        "colab": {
          "base_uri": "https://localhost:8080/"
        },
        "id": "dep26W5jCYSD",
        "outputId": "dbbb4594-1473-4245-a454-96ed01bb0d99"
      },
      "execution_count": null,
      "outputs": [
        {
          "output_type": "execute_result",
          "data": {
            "text/plain": [
              "[12, 3.1415, 34, 45, 56, 0]"
            ]
          },
          "metadata": {},
          "execution_count": 83
        }
      ]
    },
    {
      "cell_type": "code",
      "source": [
        "# Modificquemos el  ultimo valor de copia_real\n",
        "copia_real[-1] = 2**8\n",
        "copia_real"
      ],
      "metadata": {
        "colab": {
          "base_uri": "https://localhost:8080/"
        },
        "id": "0b2QGRKtCjHN",
        "outputId": "c6b7a394-845f-40d2-9eb2-eab1027c75c8"
      },
      "execution_count": null,
      "outputs": [
        {
          "output_type": "execute_result",
          "data": {
            "text/plain": [
              "[12, 3.1415, 34, 45, 56, 256]"
            ]
          },
          "metadata": {},
          "execution_count": 84
        }
      ]
    },
    {
      "cell_type": "code",
      "source": [
        "var_lista2"
      ],
      "metadata": {
        "colab": {
          "base_uri": "https://localhost:8080/"
        },
        "id": "9CtgPODcCt6e",
        "outputId": "182e9159-480e-4e06-fbac-e1786b3d4f4a"
      },
      "execution_count": null,
      "outputs": [
        {
          "output_type": "execute_result",
          "data": {
            "text/plain": [
              "[12, 3.1415, 34, 45, 56, 0]"
            ]
          },
          "metadata": {},
          "execution_count": 85
        }
      ]
    },
    {
      "cell_type": "code",
      "source": [
        "#Docuemntacio del metodo count\n",
        "help(copia_real.count)"
      ],
      "metadata": {
        "colab": {
          "base_uri": "https://localhost:8080/"
        },
        "id": "g_LrIpVKDtiX",
        "outputId": "51e6dd99-a0b3-4296-ee17-65adb0d9c503"
      },
      "execution_count": null,
      "outputs": [
        {
          "output_type": "stream",
          "name": "stdout",
          "text": [
            "Help on built-in function count:\n",
            "\n",
            "count(value, /) method of builtins.list instance\n",
            "    Return number of occurrences of value.\n",
            "\n"
          ]
        }
      ]
    },
    {
      "cell_type": "code",
      "source": [
        "# la do cuemtnacion del metodo count nos ense;la que para contar el nuemro de 20 en la\n",
        "# variable de notas_test2 no era absolutamente necesario utilizar una estructura reptetiva for\n",
        "\n",
        "notas_test2.count(20)"
      ],
      "metadata": {
        "colab": {
          "base_uri": "https://localhost:8080/"
        },
        "id": "iNjin_UOD28b",
        "outputId": "ffa2e974-5734-43da-be87-a760ebac2fb0"
      },
      "execution_count": null,
      "outputs": [
        {
          "output_type": "execute_result",
          "data": {
            "text/plain": [
              "123"
            ]
          },
          "metadata": {},
          "execution_count": 87
        }
      ]
    },
    {
      "cell_type": "code",
      "source": [
        "# obsergvacion : algunos metodos de una variable de tipo cadena de caracter devuelven variables de tipo lista\n",
        "# por ejemplo el metodo split de una variable de tipo str\n",
        "\n",
        "el_profesor_suplente = \"Hacia el atardecer, cuando Matías y su mujer sorbían un triste té y se quejaban de la miseria de la clase media, de la necesidad de tener que andar siempre con la camisa limpia, del precio de los transportes, de los aumentos de la ley, en fin, de lo que hablan a la hora del crepúsculo los matrimonios pobres, se escucharon en la puerta unos golpes estrepitosos y cuando la abrieron irrumpió el doctor Valencia, bastón en mano, sofocado por el cuello duro. -¡Mi querido Matías! ¡Vengo a darte una gran noticia! De ahora en adelante serás profesor. No me digas que no… ¡espera! Como tengo que ausentarme unos meses del país, he decidido dejarte mis clases de historia en el colegio. No se trata de un gran puesto y los emolumentos no son grandiosos pero es una magnífica ocasión para iniciarte en la enseñanza. Con el tiempo podrás conseguir otras horas de clase, se te abrirán las puertas de otros colegios, quién sabe si podrás llegar a la Universidad… eso depende de ti. Yo siempre te he tenido una gran confianza. Es injusto que un hombre de tu calidad, un hombre ilustrado, que ha cursado estudios superiores, tenga que ganarse la vida como cobrador… No señor, eso no está bien, soy el primero en reconocerlo. Tu puesto está en el magisterio… No lo pienses dos veces. En el acto llamo al director para decirle que ya he encontrado un reemplazo. No hay tiempo que perder, un taxi me espera en la puerta… ¡Y abrázame, Matías, dime que soy tu amigo! Antes de que Matías tuviera tiempo de emitir su opinión, el doctor Valencia había llamado al colegio, había hablado con el director, había abrazado por cuarta vez a su amigo y había partido como un celaje, sin quitarse siquiera el sombrero. Durante unos minutos, Matías quedó pensativo, acariciando esa bella calva que hacía las delicias de los niños y el terror de las amas de casa. Con un gesto enérgico, impidió que su mujer intercala un comentario y, silenciosamente, se acercó al aparador, se sirvió del oporto reservado a las visitas y lo paladeó sin prisa, luego de haberlo observado contra luz de la farola.\"\n",
        "\n"
      ],
      "metadata": {
        "id": "4Px26iXREETB"
      },
      "execution_count": null,
      "outputs": []
    },
    {
      "cell_type": "code",
      "source": [
        "# Documentacion\n",
        "help(\"\".split)"
      ],
      "metadata": {
        "colab": {
          "base_uri": "https://localhost:8080/"
        },
        "id": "MtbigPJXE0AI",
        "outputId": "ecbbafe8-5fed-42ec-f748-5a5098e37eb5"
      },
      "execution_count": null,
      "outputs": [
        {
          "output_type": "stream",
          "name": "stdout",
          "text": [
            "Help on built-in function split:\n",
            "\n",
            "split(sep=None, maxsplit=-1) method of builtins.str instance\n",
            "    Return a list of the substrings in the string, using sep as the separator string.\n",
            "    \n",
            "      sep\n",
            "        The separator used to split the string.\n",
            "    \n",
            "        When set to None (the default value), will split on any whitespace\n",
            "        character (including \\n \\r \\t \\f and spaces) and will discard\n",
            "        empty strings from the result.\n",
            "      maxsplit\n",
            "        Maximum number of splits.\n",
            "        -1 (the default value) means no limit.\n",
            "    \n",
            "    Splitting starts at the front of the string and works to the end.\n",
            "    \n",
            "    Note, str.split() is mainly useful for data that has been intentionally\n",
            "    delimited.  With natural text that includes punctuation, consider using\n",
            "    the regular expression module.\n",
            "\n"
          ]
        }
      ]
    },
    {
      "cell_type": "code",
      "source": [
        "# Utilicemos como seprador el espacio en blanco\n",
        "el_profesor_suplente.split(\" \")"
      ],
      "metadata": {
        "colab": {
          "base_uri": "https://localhost:8080/"
        },
        "id": "cS3Bgtk7E7oR",
        "outputId": "57255614-fe6c-4a0f-97dd-bf5f0d9e6acc"
      },
      "execution_count": null,
      "outputs": [
        {
          "output_type": "execute_result",
          "data": {
            "text/plain": [
              "['Hacia',\n",
              " 'el',\n",
              " 'atardecer,',\n",
              " 'cuando',\n",
              " 'Matías',\n",
              " 'y',\n",
              " 'su',\n",
              " 'mujer',\n",
              " 'sorbían',\n",
              " 'un',\n",
              " 'triste',\n",
              " 'té',\n",
              " 'y',\n",
              " 'se',\n",
              " 'quejaban',\n",
              " 'de',\n",
              " 'la',\n",
              " 'miseria',\n",
              " 'de',\n",
              " 'la',\n",
              " 'clase',\n",
              " 'media,',\n",
              " 'de',\n",
              " 'la',\n",
              " 'necesidad',\n",
              " 'de',\n",
              " 'tener',\n",
              " 'que',\n",
              " 'andar',\n",
              " 'siempre',\n",
              " 'con',\n",
              " 'la',\n",
              " 'camisa',\n",
              " 'limpia,',\n",
              " 'del',\n",
              " 'precio',\n",
              " 'de',\n",
              " 'los',\n",
              " 'transportes,',\n",
              " 'de',\n",
              " 'los',\n",
              " 'aumentos',\n",
              " 'de',\n",
              " 'la',\n",
              " 'ley,',\n",
              " 'en',\n",
              " 'fin,',\n",
              " 'de',\n",
              " 'lo',\n",
              " 'que',\n",
              " 'hablan',\n",
              " 'a',\n",
              " 'la',\n",
              " 'hora',\n",
              " 'del',\n",
              " 'crepúsculo',\n",
              " 'los',\n",
              " 'matrimonios',\n",
              " 'pobres,',\n",
              " 'se',\n",
              " 'escucharon',\n",
              " 'en',\n",
              " 'la',\n",
              " 'puerta',\n",
              " 'unos',\n",
              " 'golpes',\n",
              " 'estrepitosos',\n",
              " 'y',\n",
              " 'cuando',\n",
              " 'la',\n",
              " 'abrieron',\n",
              " 'irrumpió',\n",
              " 'el',\n",
              " 'doctor',\n",
              " 'Valencia,',\n",
              " 'bastón',\n",
              " 'en',\n",
              " 'mano,',\n",
              " 'sofocado',\n",
              " 'por',\n",
              " 'el',\n",
              " 'cuello',\n",
              " 'duro.',\n",
              " '-¡Mi',\n",
              " 'querido',\n",
              " 'Matías!',\n",
              " '¡Vengo',\n",
              " 'a',\n",
              " 'darte',\n",
              " 'una',\n",
              " 'gran',\n",
              " 'noticia!',\n",
              " 'De',\n",
              " 'ahora',\n",
              " 'en',\n",
              " 'adelante',\n",
              " 'serás',\n",
              " 'profesor.',\n",
              " 'No',\n",
              " 'me',\n",
              " 'digas',\n",
              " 'que',\n",
              " 'no…',\n",
              " '¡espera!',\n",
              " 'Como',\n",
              " 'tengo',\n",
              " 'que',\n",
              " 'ausentarme',\n",
              " 'unos',\n",
              " 'meses',\n",
              " 'del',\n",
              " 'país,',\n",
              " 'he',\n",
              " 'decidido',\n",
              " 'dejarte',\n",
              " 'mis',\n",
              " 'clases',\n",
              " 'de',\n",
              " 'historia',\n",
              " 'en',\n",
              " 'el',\n",
              " 'colegio.',\n",
              " 'No',\n",
              " 'se',\n",
              " 'trata',\n",
              " 'de',\n",
              " 'un',\n",
              " 'gran',\n",
              " 'puesto',\n",
              " 'y',\n",
              " 'los',\n",
              " 'emolumentos',\n",
              " 'no',\n",
              " 'son',\n",
              " 'grandiosos',\n",
              " 'pero',\n",
              " 'es',\n",
              " 'una',\n",
              " 'magnífica',\n",
              " 'ocasión',\n",
              " 'para',\n",
              " 'iniciarte',\n",
              " 'en',\n",
              " 'la',\n",
              " 'enseñanza.',\n",
              " 'Con',\n",
              " 'el',\n",
              " 'tiempo',\n",
              " 'podrás',\n",
              " 'conseguir',\n",
              " 'otras',\n",
              " 'horas',\n",
              " 'de',\n",
              " 'clase,',\n",
              " 'se',\n",
              " 'te',\n",
              " 'abrirán',\n",
              " 'las',\n",
              " 'puertas',\n",
              " 'de',\n",
              " 'otros',\n",
              " 'colegios,',\n",
              " 'quién',\n",
              " 'sabe',\n",
              " 'si',\n",
              " 'podrás',\n",
              " 'llegar',\n",
              " 'a',\n",
              " 'la',\n",
              " 'Universidad…',\n",
              " 'eso',\n",
              " 'depende',\n",
              " 'de',\n",
              " 'ti.',\n",
              " 'Yo',\n",
              " 'siempre',\n",
              " 'te',\n",
              " 'he',\n",
              " 'tenido',\n",
              " 'una',\n",
              " 'gran',\n",
              " 'confianza.',\n",
              " 'Es',\n",
              " 'injusto',\n",
              " 'que',\n",
              " 'un',\n",
              " 'hombre',\n",
              " 'de',\n",
              " 'tu',\n",
              " 'calidad,',\n",
              " 'un',\n",
              " 'hombre',\n",
              " 'ilustrado,',\n",
              " 'que',\n",
              " 'ha',\n",
              " 'cursado',\n",
              " 'estudios',\n",
              " 'superiores,',\n",
              " 'tenga',\n",
              " 'que',\n",
              " 'ganarse',\n",
              " 'la',\n",
              " 'vida',\n",
              " 'como',\n",
              " 'cobrador…',\n",
              " 'No',\n",
              " 'señor,',\n",
              " 'eso',\n",
              " 'no',\n",
              " 'está',\n",
              " 'bien,',\n",
              " 'soy',\n",
              " 'el',\n",
              " 'primero',\n",
              " 'en',\n",
              " 'reconocerlo.',\n",
              " 'Tu',\n",
              " 'puesto',\n",
              " 'está',\n",
              " 'en',\n",
              " 'el',\n",
              " 'magisterio…',\n",
              " 'No',\n",
              " 'lo',\n",
              " 'pienses',\n",
              " 'dos',\n",
              " 'veces.',\n",
              " 'En',\n",
              " 'el',\n",
              " 'acto',\n",
              " 'llamo',\n",
              " 'al',\n",
              " 'director',\n",
              " 'para',\n",
              " 'decirle',\n",
              " 'que',\n",
              " 'ya',\n",
              " 'he',\n",
              " 'encontrado',\n",
              " 'un',\n",
              " 'reemplazo.',\n",
              " 'No',\n",
              " 'hay',\n",
              " 'tiempo',\n",
              " 'que',\n",
              " 'perder,',\n",
              " 'un',\n",
              " 'taxi',\n",
              " 'me',\n",
              " 'espera',\n",
              " 'en',\n",
              " 'la',\n",
              " 'puerta…',\n",
              " '¡Y',\n",
              " 'abrázame,',\n",
              " 'Matías,',\n",
              " 'dime',\n",
              " 'que',\n",
              " 'soy',\n",
              " 'tu',\n",
              " 'amigo!',\n",
              " 'Antes',\n",
              " 'de',\n",
              " 'que',\n",
              " 'Matías',\n",
              " 'tuviera',\n",
              " 'tiempo',\n",
              " 'de',\n",
              " 'emitir',\n",
              " 'su',\n",
              " 'opinión,',\n",
              " 'el',\n",
              " 'doctor',\n",
              " 'Valencia',\n",
              " 'había',\n",
              " 'llamado',\n",
              " 'al',\n",
              " 'colegio,',\n",
              " 'había',\n",
              " 'hablado',\n",
              " 'con',\n",
              " 'el',\n",
              " 'director,',\n",
              " 'había',\n",
              " 'abrazado',\n",
              " 'por',\n",
              " 'cuarta',\n",
              " 'vez',\n",
              " 'a',\n",
              " 'su',\n",
              " 'amigo',\n",
              " 'y',\n",
              " 'había',\n",
              " 'partido',\n",
              " 'como',\n",
              " 'un',\n",
              " 'celaje,',\n",
              " 'sin',\n",
              " 'quitarse',\n",
              " 'siquiera',\n",
              " 'el',\n",
              " 'sombrero.',\n",
              " 'Durante',\n",
              " 'unos',\n",
              " 'minutos,',\n",
              " 'Matías',\n",
              " 'quedó',\n",
              " 'pensativo,',\n",
              " 'acariciando',\n",
              " 'esa',\n",
              " 'bella',\n",
              " 'calva',\n",
              " 'que',\n",
              " 'hacía',\n",
              " 'las',\n",
              " 'delicias',\n",
              " 'de',\n",
              " 'los',\n",
              " 'niños',\n",
              " 'y',\n",
              " 'el',\n",
              " 'terror',\n",
              " 'de',\n",
              " 'las',\n",
              " 'amas',\n",
              " 'de',\n",
              " 'casa.',\n",
              " 'Con',\n",
              " 'un',\n",
              " 'gesto',\n",
              " 'enérgico,',\n",
              " 'impidió',\n",
              " 'que',\n",
              " 'su',\n",
              " 'mujer',\n",
              " 'intercala',\n",
              " 'un',\n",
              " 'comentario',\n",
              " 'y,',\n",
              " 'silenciosamente,',\n",
              " 'se',\n",
              " 'acercó',\n",
              " 'al',\n",
              " 'aparador,',\n",
              " 'se',\n",
              " 'sirvió',\n",
              " 'del',\n",
              " 'oporto',\n",
              " 'reservado',\n",
              " 'a',\n",
              " 'las',\n",
              " 'visitas',\n",
              " 'y',\n",
              " 'lo',\n",
              " 'paladeó',\n",
              " 'sin',\n",
              " 'prisa,',\n",
              " 'luego',\n",
              " 'de',\n",
              " 'haberlo',\n",
              " 'observado',\n",
              " 'contra',\n",
              " 'luz',\n",
              " 'de',\n",
              " 'la',\n",
              " 'farola.']"
            ]
          },
          "metadata": {},
          "execution_count": 92
        }
      ]
    },
    {
      "cell_type": "code",
      "source": [
        "# cuantos tienen mas de 2 caracteres\n",
        "\n",
        "lista_pal_2 = []\n",
        "\n",
        "for palabra in lista_palabras:\n",
        "  if len(palabra)>2:\n",
        "    lista_pal_2.append(palabra)\n",
        "\n",
        "len(lista_pal_2)\n"
      ],
      "metadata": {
        "colab": {
          "base_uri": "https://localhost:8080/",
          "height": 211
        },
        "id": "5ml5cOimFSR9",
        "outputId": "a459bea8-ac98-4f38-8970-0cfb11378673"
      },
      "execution_count": null,
      "outputs": [
        {
          "output_type": "error",
          "ename": "NameError",
          "evalue": "name 'lista_palabras' is not defined",
          "traceback": [
            "\u001b[0;31m---------------------------------------------------------------------------\u001b[0m",
            "\u001b[0;31mNameError\u001b[0m                                 Traceback (most recent call last)",
            "\u001b[0;32m/tmp/ipython-input-3416163762.py\u001b[0m in \u001b[0;36m<cell line: 0>\u001b[0;34m()\u001b[0m\n\u001b[1;32m      3\u001b[0m \u001b[0mlista_pal_2\u001b[0m \u001b[0;34m=\u001b[0m \u001b[0;34m[\u001b[0m\u001b[0;34m]\u001b[0m\u001b[0;34m\u001b[0m\u001b[0;34m\u001b[0m\u001b[0m\n\u001b[1;32m      4\u001b[0m \u001b[0;34m\u001b[0m\u001b[0m\n\u001b[0;32m----> 5\u001b[0;31m \u001b[0;32mfor\u001b[0m \u001b[0mpalabra\u001b[0m \u001b[0;32min\u001b[0m \u001b[0mlista_palabras\u001b[0m\u001b[0;34m:\u001b[0m\u001b[0;34m\u001b[0m\u001b[0;34m\u001b[0m\u001b[0m\n\u001b[0m\u001b[1;32m      6\u001b[0m   \u001b[0;32mif\u001b[0m \u001b[0mlen\u001b[0m\u001b[0;34m(\u001b[0m\u001b[0mpalabra\u001b[0m\u001b[0;34m)\u001b[0m\u001b[0;34m>\u001b[0m\u001b[0;36m2\u001b[0m\u001b[0;34m:\u001b[0m\u001b[0;34m\u001b[0m\u001b[0;34m\u001b[0m\u001b[0m\n\u001b[1;32m      7\u001b[0m     \u001b[0mlista_pal_2\u001b[0m\u001b[0;34m.\u001b[0m\u001b[0mappend\u001b[0m\u001b[0;34m(\u001b[0m\u001b[0mpalabra\u001b[0m\u001b[0;34m)\u001b[0m\u001b[0;34m\u001b[0m\u001b[0;34m\u001b[0m\u001b[0m\n",
            "\u001b[0;31mNameError\u001b[0m: name 'lista_palabras' is not defined"
          ]
        }
      ]
    }
  ]
}